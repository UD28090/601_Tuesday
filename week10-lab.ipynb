{
 "cells": [
  {
   "cell_type": "markdown",
   "id": "72fa4223",
   "metadata": {},
   "source": [
    "# Week11 Lab\n",
    "\n",
    "Write a `ArrayList` class for a basic replacement of list type. \n",
    "It should have the following methods.\n",
    "When you add 2 instances of this type, it should add side by side like pandas Series\n",
    "\n",
    "* append\n",
    "* clear\n",
    "* `__getitem__`\n",
    "* `__add__`"
   ]
  },
  {
   "cell_type": "code",
   "execution_count": 7,
   "id": "b05b5884",
   "metadata": {},
   "outputs": [
    {
     "data": {
      "text/plain": [
       "[1, 2, 1, 2]"
      ]
     },
     "execution_count": 7,
     "metadata": {},
     "output_type": "execute_result"
    }
   ],
   "source": [
    "[1,2] + [1,2]"
   ]
  },
  {
   "cell_type": "code",
   "execution_count": 19,
   "id": "163f4faf",
   "metadata": {},
   "outputs": [],
   "source": [
    "#functions for list of Arrays i.e, append, clear, get item, add\n",
    "class ArrayList:\n",
    "    def __init__(self):\n",
    "        self.list1 = []\n",
    "    def append(self,value):\n",
    "        self.list1.append(value)\n",
    "        \n",
    "    def clear(self):\n",
    "        self.list1.clear()\n",
    "    def __len__(self):\n",
    "        return len(self.list1)\n",
    "        \n",
    "    def __getitem__(self,i):\n",
    "        return self.list1[i]\n",
    "    def __add__(self,other):\n",
    "        if len(self.list1) != len(other):\n",
    "            raise ValueError('not same length')\n",
    "        summ = ArrayList()\n",
    "        for x,y in zip(self.list1, other.list1):\n",
    "            summ.append(x+y)\n",
    "        return summ\n",
    "    def __repr__(self):\n",
    "        return str(self.list1)"
   ]
  },
  {
   "cell_type": "code",
   "execution_count": 25,
   "id": "b58861b4",
   "metadata": {},
   "outputs": [],
   "source": [
    "A1=ArrayList()\n",
    "A2=ArrayList()"
   ]
  },
  {
   "cell_type": "code",
   "execution_count": 26,
   "id": "ad3db482",
   "metadata": {},
   "outputs": [],
   "source": [
    "#Append\n",
    "\n",
    "A1.append(1)\n",
    "A1.append(2)\n",
    "A2.append(3)\n",
    "A2.append(4)\n"
   ]
  },
  {
   "cell_type": "code",
   "execution_count": 27,
   "id": "8d5b3eaf",
   "metadata": {},
   "outputs": [
    {
     "data": {
      "text/plain": [
       "2"
      ]
     },
     "execution_count": 27,
     "metadata": {},
     "output_type": "execute_result"
    }
   ],
   "source": [
    "#variable length\n",
    "len(A1)"
   ]
  },
  {
   "cell_type": "code",
   "execution_count": 28,
   "id": "3bbf47e9",
   "metadata": {},
   "outputs": [
    {
     "data": {
      "text/plain": [
       "[1, 2]"
      ]
     },
     "execution_count": 28,
     "metadata": {},
     "output_type": "execute_result"
    }
   ],
   "source": [
    "A1"
   ]
  },
  {
   "cell_type": "code",
   "execution_count": 30,
   "id": "61b9a813",
   "metadata": {},
   "outputs": [
    {
     "data": {
      "text/plain": [
       "[4, 6]"
      ]
     },
     "execution_count": 30,
     "metadata": {},
     "output_type": "execute_result"
    }
   ],
   "source": [
    "#Adding Array lists\n",
    "\n",
    "A1 + A2"
   ]
  },
  {
   "cell_type": "code",
   "execution_count": null,
   "id": "dfd4813f",
   "metadata": {},
   "outputs": [],
   "source": []
  }
 ],
 "metadata": {
  "kernelspec": {
   "display_name": "Python 3 (ipykernel)",
   "language": "python",
   "name": "python3"
  },
  "language_info": {
   "codemirror_mode": {
    "name": "ipython",
    "version": 3
   },
   "file_extension": ".py",
   "mimetype": "text/x-python",
   "name": "python",
   "nbconvert_exporter": "python",
   "pygments_lexer": "ipython3",
   "version": "3.9.7"
  },
  "toc": {
   "base_numbering": 1,
   "nav_menu": {},
   "number_sections": true,
   "sideBar": true,
   "skip_h1_title": false,
   "title_cell": "Table of Contents",
   "title_sidebar": "Contents",
   "toc_cell": false,
   "toc_position": {},
   "toc_section_display": true,
   "toc_window_display": false
  }
 },
 "nbformat": 4,
 "nbformat_minor": 5
}
