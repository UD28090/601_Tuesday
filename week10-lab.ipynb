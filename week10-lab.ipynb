{
 "cells": [
  {
   "cell_type": "markdown",
   "id": "8b114497",
   "metadata": {},
   "source": [
    "# Week11 Lab\n",
    "\n",
    "Write a `ArrayList` class for a basic replacement of list type. \n",
    "It should have the following methods.\n",
    "When you add 2 instances of this type, it should add side by side like pandas Series\n",
    "\n",
    "* append\n",
    "* clear\n",
    "* `__getitem__`\n",
    "* `__add__`"
   ]
  },
  {
   "cell_type": "code",
   "execution_count": 10,
   "id": "6441f83a",
   "metadata": {},
   "outputs": [
    {
     "data": {
      "text/plain": [
       "[1, 2, 1, 2]"
      ]
     },
     "execution_count": 10,
     "metadata": {},
     "output_type": "execute_result"
    }
   ],
   "source": [
    "[1,2] + [1,2]"
   ]
  },
  {
   "cell_type": "code",
   "execution_count": 2,
   "id": "030181a5",
   "metadata": {},
   "outputs": [],
   "source": [
    "\n",
    "class arraylist:\n",
    "    def __init__(self):\n",
    "        self.list1 = []\n",
    "    def append(self,value):\n",
    "        self.list1.append(value)\n",
    "        \n",
    "    def clear(self):\n",
    "        self.list1.clear()\n",
    "    def __len__(self):\n",
    "        return len(self.list1)\n",
    "        \n",
    "    def __getitem__(self,J):\n",
    "        return self.list1[i]\n",
    "    def __add__(self,other):\n",
    "        if len(self.list1) != len(other):\n",
    "            raise ValueError('not same length')\n",
    "        summ = arraylist()\n",
    "        for J,K in zip(self.list1, other.list1):\n",
    "            summ.append(J+K)\n",
    "        return summ\n",
    "    def __repr__(self):\n",
    "        return str(self.list1)"
   ]
  },
  {
   "cell_type": "code",
   "execution_count": 3,
   "id": "40993737",
   "metadata": {},
   "outputs": [],
   "source": [
    "A1=arraylist()\n",
    "A2=arraylist()\n",
    "#initializing two arraylists"
   ]
  },
  {
   "cell_type": "code",
   "execution_count": 4,
   "id": "b71b25ce",
   "metadata": {},
   "outputs": [],
   "source": [
    "A1.append(1)\n",
    "A1.append(2)\n",
    "A1.append(3)\n",
    "#appending elements into first arraylist "
   ]
  },
  {
   "cell_type": "code",
   "execution_count": 5,
   "id": "7eecf19d",
   "metadata": {},
   "outputs": [
    {
     "data": {
      "text/plain": [
       "3"
      ]
     },
     "execution_count": 5,
     "metadata": {},
     "output_type": "execute_result"
    }
   ],
   "source": [
    "len(A1)\n",
    "#displaying the length of first arraylist"
   ]
  },
  {
   "cell_type": "code",
   "execution_count": 6,
   "id": "3e576b26",
   "metadata": {},
   "outputs": [],
   "source": [
    "A1.clear()\n",
    "#deleting the elements in first arraylist"
   ]
  },
  {
   "cell_type": "code",
   "execution_count": 7,
   "id": "85a1fd88",
   "metadata": {},
   "outputs": [
    {
     "data": {
      "text/plain": [
       "[]"
      ]
     },
     "execution_count": 7,
     "metadata": {},
     "output_type": "execute_result"
    }
   ],
   "source": [
    "A1"
   ]
  },
  {
   "cell_type": "code",
   "execution_count": 8,
   "id": "28e16552",
   "metadata": {},
   "outputs": [],
   "source": [
    "A1.append(1)\n",
    "A1.append(2)\n",
    "A1.append(3)\n",
    "#appending elements into first arraylist"
   ]
  },
  {
   "cell_type": "code",
   "execution_count": 9,
   "id": "d7df733d",
   "metadata": {},
   "outputs": [],
   "source": [
    "A2.append(2)\n",
    "A2.append(3)\n",
    "A2.append(4)\n",
    "#appending elements into second arraylist"
   ]
  },
  {
   "cell_type": "code",
   "execution_count": 10,
   "id": "0ce22065",
   "metadata": {},
   "outputs": [
    {
     "data": {
      "text/plain": [
       "[3, 5, 7]"
      ]
     },
     "execution_count": 10,
     "metadata": {},
     "output_type": "execute_result"
    }
   ],
   "source": [
    "A1 + A2\n",
    "#adding elements of first and second arraylist."
   ]
  },
  {
   "cell_type": "code",
   "execution_count": null,
   "id": "ef67f36e",
   "metadata": {},
   "outputs": [],
   "source": []
  }
 ],
 "metadata": {
  "kernelspec": {
   "display_name": "Python 3 (ipykernel)",
   "language": "python",
   "name": "python3"
  },
  "language_info": {
   "codemirror_mode": {
    "name": "ipython",
    "version": 3
   },
   "file_extension": ".py",
   "mimetype": "text/x-python",
   "name": "python",
   "nbconvert_exporter": "python",
   "pygments_lexer": "ipython3",
   "version": "3.9.7"
  },
  "toc": {
   "base_numbering": 1,
   "nav_menu": {},
   "number_sections": true,
   "sideBar": true,
   "skip_h1_title": false,
   "title_cell": "Table of Contents",
   "title_sidebar": "Contents",
   "toc_cell": false,
   "toc_position": {},
   "toc_section_display": true,
   "toc_window_display": false
  }
 },
 "nbformat": 4,
 "nbformat_minor": 5
}
