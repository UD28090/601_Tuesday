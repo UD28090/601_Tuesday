{
 "cells": [
  {
   "cell_type": "markdown",
   "id": "f5fd4223",
   "metadata": {},
   "source": [
    "# Week 12 Homework - Imputing Data\n",
    "\n",
    "Each XLS or XLSX file contains a dataframe.  \n",
    "* Load each XLS or XLSX file in your Jupyter notebook.  For each dataframe, address missing values by taking the following steps:\n",
    "\n",
    "1. Count the number of missing values in the dataframe; count the number of missing values per column\n",
    "1. Plot the distribution of data points using a histogram\n",
    "1. Create a lag plot (a lag plot shows t versus t+1)\n",
    "1. Based on the lag plot, state in a markdown cell whether the order of this data matters. \n",
    "1. Do one of the following (not both):\n",
    "    1. If the order of the data matters, then interpolate the missing values\n",
    "    1. If the order of the data does not matter, fill in the missing data by sampling from the distribution\n",
    "    1. Create a scatter plot using the columns in dataframe; no Nan entries should be present Submit a single Jupyter notebook with your analysis of the XLS and XLSX files.\n",
    "    1. Perform interpolation or sampling programmatically using Python (not manually)"
   ]
  },
  {
   "cell_type": "markdown",
   "id": "eb5e270c",
   "metadata": {},
   "source": [
    "# Load each XLS or XLSX file in Jupyter notebook"
   ]
  },
  {
   "cell_type": "code",
   "execution_count": 1,
   "id": "146d0e03",
   "metadata": {},
   "outputs": [
    {
     "data": {
      "text/html": [
       "<div>\n",
       "<style scoped>\n",
       "    .dataframe tbody tr th:only-of-type {\n",
       "        vertical-align: middle;\n",
       "    }\n",
       "\n",
       "    .dataframe tbody tr th {\n",
       "        vertical-align: top;\n",
       "    }\n",
       "\n",
       "    .dataframe thead th {\n",
       "        text-align: right;\n",
       "    }\n",
       "</style>\n",
       "<table border=\"1\" class=\"dataframe\">\n",
       "  <thead>\n",
       "    <tr style=\"text-align: right;\">\n",
       "      <th></th>\n",
       "      <th>Unnamed: 0</th>\n",
       "      <th>x</th>\n",
       "      <th>y</th>\n",
       "    </tr>\n",
       "  </thead>\n",
       "  <tbody>\n",
       "    <tr>\n",
       "      <th>0</th>\n",
       "      <td>0</td>\n",
       "      <td>1.40</td>\n",
       "      <td>10.00</td>\n",
       "    </tr>\n",
       "    <tr>\n",
       "      <th>1</th>\n",
       "      <td>1</td>\n",
       "      <td>1.45</td>\n",
       "      <td>10.25</td>\n",
       "    </tr>\n",
       "    <tr>\n",
       "      <th>2</th>\n",
       "      <td>2</td>\n",
       "      <td>1.50</td>\n",
       "      <td>10.50</td>\n",
       "    </tr>\n",
       "    <tr>\n",
       "      <th>3</th>\n",
       "      <td>3</td>\n",
       "      <td>1.55</td>\n",
       "      <td>10.75</td>\n",
       "    </tr>\n",
       "    <tr>\n",
       "      <th>4</th>\n",
       "      <td>4</td>\n",
       "      <td>1.60</td>\n",
       "      <td>11.00</td>\n",
       "    </tr>\n",
       "    <tr>\n",
       "      <th>...</th>\n",
       "      <td>...</td>\n",
       "      <td>...</td>\n",
       "      <td>...</td>\n",
       "    </tr>\n",
       "    <tr>\n",
       "      <th>103</th>\n",
       "      <td>103</td>\n",
       "      <td>6.55</td>\n",
       "      <td>35.75</td>\n",
       "    </tr>\n",
       "    <tr>\n",
       "      <th>104</th>\n",
       "      <td>104</td>\n",
       "      <td>6.60</td>\n",
       "      <td>36.00</td>\n",
       "    </tr>\n",
       "    <tr>\n",
       "      <th>105</th>\n",
       "      <td>105</td>\n",
       "      <td>6.65</td>\n",
       "      <td>36.25</td>\n",
       "    </tr>\n",
       "    <tr>\n",
       "      <th>106</th>\n",
       "      <td>106</td>\n",
       "      <td>6.70</td>\n",
       "      <td>36.50</td>\n",
       "    </tr>\n",
       "    <tr>\n",
       "      <th>107</th>\n",
       "      <td>107</td>\n",
       "      <td>6.75</td>\n",
       "      <td>36.75</td>\n",
       "    </tr>\n",
       "  </tbody>\n",
       "</table>\n",
       "<p>108 rows × 3 columns</p>\n",
       "</div>"
      ],
      "text/plain": [
       "     Unnamed: 0     x      y\n",
       "0             0  1.40  10.00\n",
       "1             1  1.45  10.25\n",
       "2             2  1.50  10.50\n",
       "3             3  1.55  10.75\n",
       "4             4  1.60  11.00\n",
       "..          ...   ...    ...\n",
       "103         103  6.55  35.75\n",
       "104         104  6.60  36.00\n",
       "105         105  6.65  36.25\n",
       "106         106  6.70  36.50\n",
       "107         107  6.75  36.75\n",
       "\n",
       "[108 rows x 3 columns]"
      ]
     },
     "execution_count": 1,
     "metadata": {},
     "output_type": "execute_result"
    }
   ],
   "source": [
    "import pandas as pd\n",
    "import numpy as np\n",
    "import matplotlib.pyplot as plt\n",
    "\n",
    "#Loading imputation_homework_12 file\n",
    "\n",
    "imputation_12=pd.read_excel('imputation_homework_12.xlsx')\n",
    "imputation_12"
   ]
  },
  {
   "cell_type": "code",
   "execution_count": 2,
   "id": "84b90a5a",
   "metadata": {},
   "outputs": [
    {
     "data": {
      "text/html": [
       "<div>\n",
       "<style scoped>\n",
       "    .dataframe tbody tr th:only-of-type {\n",
       "        vertical-align: middle;\n",
       "    }\n",
       "\n",
       "    .dataframe tbody tr th {\n",
       "        vertical-align: top;\n",
       "    }\n",
       "\n",
       "    .dataframe thead th {\n",
       "        text-align: right;\n",
       "    }\n",
       "</style>\n",
       "<table border=\"1\" class=\"dataframe\">\n",
       "  <thead>\n",
       "    <tr style=\"text-align: right;\">\n",
       "      <th></th>\n",
       "      <th>x</th>\n",
       "      <th>y</th>\n",
       "    </tr>\n",
       "  </thead>\n",
       "  <tbody>\n",
       "    <tr>\n",
       "      <th>0</th>\n",
       "      <td>1.40</td>\n",
       "      <td>10.00</td>\n",
       "    </tr>\n",
       "    <tr>\n",
       "      <th>1</th>\n",
       "      <td>1.45</td>\n",
       "      <td>10.25</td>\n",
       "    </tr>\n",
       "    <tr>\n",
       "      <th>2</th>\n",
       "      <td>1.50</td>\n",
       "      <td>10.50</td>\n",
       "    </tr>\n",
       "    <tr>\n",
       "      <th>3</th>\n",
       "      <td>1.55</td>\n",
       "      <td>10.75</td>\n",
       "    </tr>\n",
       "    <tr>\n",
       "      <th>4</th>\n",
       "      <td>1.60</td>\n",
       "      <td>11.00</td>\n",
       "    </tr>\n",
       "    <tr>\n",
       "      <th>...</th>\n",
       "      <td>...</td>\n",
       "      <td>...</td>\n",
       "    </tr>\n",
       "    <tr>\n",
       "      <th>103</th>\n",
       "      <td>6.55</td>\n",
       "      <td>35.75</td>\n",
       "    </tr>\n",
       "    <tr>\n",
       "      <th>104</th>\n",
       "      <td>6.60</td>\n",
       "      <td>36.00</td>\n",
       "    </tr>\n",
       "    <tr>\n",
       "      <th>105</th>\n",
       "      <td>6.65</td>\n",
       "      <td>36.25</td>\n",
       "    </tr>\n",
       "    <tr>\n",
       "      <th>106</th>\n",
       "      <td>6.70</td>\n",
       "      <td>36.50</td>\n",
       "    </tr>\n",
       "    <tr>\n",
       "      <th>107</th>\n",
       "      <td>6.75</td>\n",
       "      <td>36.75</td>\n",
       "    </tr>\n",
       "  </tbody>\n",
       "</table>\n",
       "<p>108 rows × 2 columns</p>\n",
       "</div>"
      ],
      "text/plain": [
       "        x      y\n",
       "0    1.40  10.00\n",
       "1    1.45  10.25\n",
       "2    1.50  10.50\n",
       "3    1.55  10.75\n",
       "4    1.60  11.00\n",
       "..    ...    ...\n",
       "103  6.55  35.75\n",
       "104  6.60  36.00\n",
       "105  6.65  36.25\n",
       "106  6.70  36.50\n",
       "107  6.75  36.75\n",
       "\n",
       "[108 rows x 2 columns]"
      ]
     },
     "execution_count": 2,
     "metadata": {},
     "output_type": "execute_result"
    }
   ],
   "source": [
    "del imputation_12[imputation_12.columns[0]]\n",
    "imputation_12"
   ]
  },
  {
   "cell_type": "code",
   "execution_count": 3,
   "id": "34e66d21",
   "metadata": {},
   "outputs": [
    {
     "data": {
      "text/html": [
       "<div>\n",
       "<style scoped>\n",
       "    .dataframe tbody tr th:only-of-type {\n",
       "        vertical-align: middle;\n",
       "    }\n",
       "\n",
       "    .dataframe tbody tr th {\n",
       "        vertical-align: top;\n",
       "    }\n",
       "\n",
       "    .dataframe thead th {\n",
       "        text-align: right;\n",
       "    }\n",
       "</style>\n",
       "<table border=\"1\" class=\"dataframe\">\n",
       "  <thead>\n",
       "    <tr style=\"text-align: right;\">\n",
       "      <th></th>\n",
       "      <th>Unnamed: 0</th>\n",
       "      <th>time</th>\n",
       "      <th>value</th>\n",
       "    </tr>\n",
       "  </thead>\n",
       "  <tbody>\n",
       "    <tr>\n",
       "      <th>0</th>\n",
       "      <td>0</td>\n",
       "      <td>0.00</td>\n",
       "      <td>0.000000</td>\n",
       "    </tr>\n",
       "    <tr>\n",
       "      <th>1</th>\n",
       "      <td>1</td>\n",
       "      <td>0.02</td>\n",
       "      <td>2.528779</td>\n",
       "    </tr>\n",
       "    <tr>\n",
       "      <th>2</th>\n",
       "      <td>2</td>\n",
       "      <td>0.04</td>\n",
       "      <td>2.419020</td>\n",
       "    </tr>\n",
       "    <tr>\n",
       "      <th>3</th>\n",
       "      <td>3</td>\n",
       "      <td>0.06</td>\n",
       "      <td>0.665052</td>\n",
       "    </tr>\n",
       "    <tr>\n",
       "      <th>4</th>\n",
       "      <td>4</td>\n",
       "      <td>0.08</td>\n",
       "      <td>0.506655</td>\n",
       "    </tr>\n",
       "    <tr>\n",
       "      <th>...</th>\n",
       "      <td>...</td>\n",
       "      <td>...</td>\n",
       "      <td>...</td>\n",
       "    </tr>\n",
       "    <tr>\n",
       "      <th>495</th>\n",
       "      <td>495</td>\n",
       "      <td>9.90</td>\n",
       "      <td>-2.938926</td>\n",
       "    </tr>\n",
       "    <tr>\n",
       "      <th>496</th>\n",
       "      <td>496</td>\n",
       "      <td>9.92</td>\n",
       "      <td>-0.506655</td>\n",
       "    </tr>\n",
       "    <tr>\n",
       "      <th>497</th>\n",
       "      <td>497</td>\n",
       "      <td>9.94</td>\n",
       "      <td>-0.665052</td>\n",
       "    </tr>\n",
       "    <tr>\n",
       "      <th>498</th>\n",
       "      <td>498</td>\n",
       "      <td>9.96</td>\n",
       "      <td>-2.419020</td>\n",
       "    </tr>\n",
       "    <tr>\n",
       "      <th>499</th>\n",
       "      <td>499</td>\n",
       "      <td>9.98</td>\n",
       "      <td>-2.528779</td>\n",
       "    </tr>\n",
       "  </tbody>\n",
       "</table>\n",
       "<p>500 rows × 3 columns</p>\n",
       "</div>"
      ],
      "text/plain": [
       "     Unnamed: 0  time     value\n",
       "0             0  0.00  0.000000\n",
       "1             1  0.02  2.528779\n",
       "2             2  0.04  2.419020\n",
       "3             3  0.06  0.665052\n",
       "4             4  0.08  0.506655\n",
       "..          ...   ...       ...\n",
       "495         495  9.90 -2.938926\n",
       "496         496  9.92 -0.506655\n",
       "497         497  9.94 -0.665052\n",
       "498         498  9.96 -2.419020\n",
       "499         499  9.98 -2.528779\n",
       "\n",
       "[500 rows x 3 columns]"
      ]
     },
     "execution_count": 3,
     "metadata": {},
     "output_type": "execute_result"
    }
   ],
   "source": [
    "#Loading imputation_homework_32 file\n",
    "\n",
    "imputation_32=pd.read_excel('imputation_homework_32.xls')\n",
    "imputation_32"
   ]
  },
  {
   "cell_type": "code",
   "execution_count": 4,
   "id": "937590bd",
   "metadata": {},
   "outputs": [],
   "source": [
    "del imputation_32[imputation_32.columns[0]]"
   ]
  },
  {
   "cell_type": "code",
   "execution_count": 5,
   "id": "2120fe3e",
   "metadata": {},
   "outputs": [
    {
     "data": {
      "text/html": [
       "<div>\n",
       "<style scoped>\n",
       "    .dataframe tbody tr th:only-of-type {\n",
       "        vertical-align: middle;\n",
       "    }\n",
       "\n",
       "    .dataframe tbody tr th {\n",
       "        vertical-align: top;\n",
       "    }\n",
       "\n",
       "    .dataframe thead th {\n",
       "        text-align: right;\n",
       "    }\n",
       "</style>\n",
       "<table border=\"1\" class=\"dataframe\">\n",
       "  <thead>\n",
       "    <tr style=\"text-align: right;\">\n",
       "      <th></th>\n",
       "      <th>time</th>\n",
       "      <th>value</th>\n",
       "    </tr>\n",
       "  </thead>\n",
       "  <tbody>\n",
       "    <tr>\n",
       "      <th>0</th>\n",
       "      <td>0.00</td>\n",
       "      <td>0.000000</td>\n",
       "    </tr>\n",
       "    <tr>\n",
       "      <th>1</th>\n",
       "      <td>0.02</td>\n",
       "      <td>2.528779</td>\n",
       "    </tr>\n",
       "    <tr>\n",
       "      <th>2</th>\n",
       "      <td>0.04</td>\n",
       "      <td>2.419020</td>\n",
       "    </tr>\n",
       "    <tr>\n",
       "      <th>3</th>\n",
       "      <td>0.06</td>\n",
       "      <td>0.665052</td>\n",
       "    </tr>\n",
       "    <tr>\n",
       "      <th>4</th>\n",
       "      <td>0.08</td>\n",
       "      <td>0.506655</td>\n",
       "    </tr>\n",
       "    <tr>\n",
       "      <th>...</th>\n",
       "      <td>...</td>\n",
       "      <td>...</td>\n",
       "    </tr>\n",
       "    <tr>\n",
       "      <th>495</th>\n",
       "      <td>9.90</td>\n",
       "      <td>-2.938926</td>\n",
       "    </tr>\n",
       "    <tr>\n",
       "      <th>496</th>\n",
       "      <td>9.92</td>\n",
       "      <td>-0.506655</td>\n",
       "    </tr>\n",
       "    <tr>\n",
       "      <th>497</th>\n",
       "      <td>9.94</td>\n",
       "      <td>-0.665052</td>\n",
       "    </tr>\n",
       "    <tr>\n",
       "      <th>498</th>\n",
       "      <td>9.96</td>\n",
       "      <td>-2.419020</td>\n",
       "    </tr>\n",
       "    <tr>\n",
       "      <th>499</th>\n",
       "      <td>9.98</td>\n",
       "      <td>-2.528779</td>\n",
       "    </tr>\n",
       "  </tbody>\n",
       "</table>\n",
       "<p>500 rows × 2 columns</p>\n",
       "</div>"
      ],
      "text/plain": [
       "     time     value\n",
       "0    0.00  0.000000\n",
       "1    0.02  2.528779\n",
       "2    0.04  2.419020\n",
       "3    0.06  0.665052\n",
       "4    0.08  0.506655\n",
       "..    ...       ...\n",
       "495  9.90 -2.938926\n",
       "496  9.92 -0.506655\n",
       "497  9.94 -0.665052\n",
       "498  9.96 -2.419020\n",
       "499  9.98 -2.528779\n",
       "\n",
       "[500 rows x 2 columns]"
      ]
     },
     "execution_count": 5,
     "metadata": {},
     "output_type": "execute_result"
    }
   ],
   "source": [
    "imputation_32"
   ]
  },
  {
   "cell_type": "code",
   "execution_count": 6,
   "id": "17110b11",
   "metadata": {},
   "outputs": [
    {
     "data": {
      "text/html": [
       "<div>\n",
       "<style scoped>\n",
       "    .dataframe tbody tr th:only-of-type {\n",
       "        vertical-align: middle;\n",
       "    }\n",
       "\n",
       "    .dataframe tbody tr th {\n",
       "        vertical-align: top;\n",
       "    }\n",
       "\n",
       "    .dataframe thead th {\n",
       "        text-align: right;\n",
       "    }\n",
       "</style>\n",
       "<table border=\"1\" class=\"dataframe\">\n",
       "  <thead>\n",
       "    <tr style=\"text-align: right;\">\n",
       "      <th></th>\n",
       "      <th>Unnamed: 0</th>\n",
       "      <th>date</th>\n",
       "      <th>value</th>\n",
       "    </tr>\n",
       "  </thead>\n",
       "  <tbody>\n",
       "    <tr>\n",
       "      <th>0</th>\n",
       "      <td>0</td>\n",
       "      <td>2015-11-03</td>\n",
       "      <td>13.394304</td>\n",
       "    </tr>\n",
       "    <tr>\n",
       "      <th>1</th>\n",
       "      <td>1</td>\n",
       "      <td>2015-11-04</td>\n",
       "      <td>-3.800715</td>\n",
       "    </tr>\n",
       "    <tr>\n",
       "      <th>2</th>\n",
       "      <td>2</td>\n",
       "      <td>2015-11-05</td>\n",
       "      <td>28.098152</td>\n",
       "    </tr>\n",
       "    <tr>\n",
       "      <th>3</th>\n",
       "      <td>3</td>\n",
       "      <td>2015-11-06</td>\n",
       "      <td>20.500562</td>\n",
       "    </tr>\n",
       "    <tr>\n",
       "      <th>4</th>\n",
       "      <td>4</td>\n",
       "      <td>2015-11-07</td>\n",
       "      <td>33.981955</td>\n",
       "    </tr>\n",
       "    <tr>\n",
       "      <th>...</th>\n",
       "      <td>...</td>\n",
       "      <td>...</td>\n",
       "      <td>...</td>\n",
       "    </tr>\n",
       "    <tr>\n",
       "      <th>847</th>\n",
       "      <td>847</td>\n",
       "      <td>2018-02-27</td>\n",
       "      <td>14.469096</td>\n",
       "    </tr>\n",
       "    <tr>\n",
       "      <th>848</th>\n",
       "      <td>848</td>\n",
       "      <td>2018-02-28</td>\n",
       "      <td>30.466798</td>\n",
       "    </tr>\n",
       "    <tr>\n",
       "      <th>849</th>\n",
       "      <td>849</td>\n",
       "      <td>2018-03-01</td>\n",
       "      <td>13.722157</td>\n",
       "    </tr>\n",
       "    <tr>\n",
       "      <th>850</th>\n",
       "      <td>850</td>\n",
       "      <td>2018-03-02</td>\n",
       "      <td>16.117787</td>\n",
       "    </tr>\n",
       "    <tr>\n",
       "      <th>851</th>\n",
       "      <td>851</td>\n",
       "      <td>2018-03-03</td>\n",
       "      <td>-8.030111</td>\n",
       "    </tr>\n",
       "  </tbody>\n",
       "</table>\n",
       "<p>852 rows × 3 columns</p>\n",
       "</div>"
      ],
      "text/plain": [
       "     Unnamed: 0       date      value\n",
       "0             0 2015-11-03  13.394304\n",
       "1             1 2015-11-04  -3.800715\n",
       "2             2 2015-11-05  28.098152\n",
       "3             3 2015-11-06  20.500562\n",
       "4             4 2015-11-07  33.981955\n",
       "..          ...        ...        ...\n",
       "847         847 2018-02-27  14.469096\n",
       "848         848 2018-02-28  30.466798\n",
       "849         849 2018-03-01  13.722157\n",
       "850         850 2018-03-02  16.117787\n",
       "851         851 2018-03-03  -8.030111\n",
       "\n",
       "[852 rows x 3 columns]"
      ]
     },
     "execution_count": 6,
     "metadata": {},
     "output_type": "execute_result"
    }
   ],
   "source": [
    "#Loading imputation_homework_78 file\n",
    "\n",
    "imputation_78=pd.read_excel('imputation_homework_78.xlsx')\n",
    "imputation_78"
   ]
  },
  {
   "cell_type": "code",
   "execution_count": 7,
   "id": "7113220e",
   "metadata": {},
   "outputs": [
    {
     "data": {
      "text/html": [
       "<div>\n",
       "<style scoped>\n",
       "    .dataframe tbody tr th:only-of-type {\n",
       "        vertical-align: middle;\n",
       "    }\n",
       "\n",
       "    .dataframe tbody tr th {\n",
       "        vertical-align: top;\n",
       "    }\n",
       "\n",
       "    .dataframe thead th {\n",
       "        text-align: right;\n",
       "    }\n",
       "</style>\n",
       "<table border=\"1\" class=\"dataframe\">\n",
       "  <thead>\n",
       "    <tr style=\"text-align: right;\">\n",
       "      <th></th>\n",
       "      <th>date</th>\n",
       "      <th>value</th>\n",
       "    </tr>\n",
       "  </thead>\n",
       "  <tbody>\n",
       "    <tr>\n",
       "      <th>0</th>\n",
       "      <td>2015-11-03</td>\n",
       "      <td>13.394304</td>\n",
       "    </tr>\n",
       "    <tr>\n",
       "      <th>1</th>\n",
       "      <td>2015-11-04</td>\n",
       "      <td>-3.800715</td>\n",
       "    </tr>\n",
       "    <tr>\n",
       "      <th>2</th>\n",
       "      <td>2015-11-05</td>\n",
       "      <td>28.098152</td>\n",
       "    </tr>\n",
       "    <tr>\n",
       "      <th>3</th>\n",
       "      <td>2015-11-06</td>\n",
       "      <td>20.500562</td>\n",
       "    </tr>\n",
       "    <tr>\n",
       "      <th>4</th>\n",
       "      <td>2015-11-07</td>\n",
       "      <td>33.981955</td>\n",
       "    </tr>\n",
       "    <tr>\n",
       "      <th>...</th>\n",
       "      <td>...</td>\n",
       "      <td>...</td>\n",
       "    </tr>\n",
       "    <tr>\n",
       "      <th>847</th>\n",
       "      <td>2018-02-27</td>\n",
       "      <td>14.469096</td>\n",
       "    </tr>\n",
       "    <tr>\n",
       "      <th>848</th>\n",
       "      <td>2018-02-28</td>\n",
       "      <td>30.466798</td>\n",
       "    </tr>\n",
       "    <tr>\n",
       "      <th>849</th>\n",
       "      <td>2018-03-01</td>\n",
       "      <td>13.722157</td>\n",
       "    </tr>\n",
       "    <tr>\n",
       "      <th>850</th>\n",
       "      <td>2018-03-02</td>\n",
       "      <td>16.117787</td>\n",
       "    </tr>\n",
       "    <tr>\n",
       "      <th>851</th>\n",
       "      <td>2018-03-03</td>\n",
       "      <td>-8.030111</td>\n",
       "    </tr>\n",
       "  </tbody>\n",
       "</table>\n",
       "<p>852 rows × 2 columns</p>\n",
       "</div>"
      ],
      "text/plain": [
       "          date      value\n",
       "0   2015-11-03  13.394304\n",
       "1   2015-11-04  -3.800715\n",
       "2   2015-11-05  28.098152\n",
       "3   2015-11-06  20.500562\n",
       "4   2015-11-07  33.981955\n",
       "..         ...        ...\n",
       "847 2018-02-27  14.469096\n",
       "848 2018-02-28  30.466798\n",
       "849 2018-03-01  13.722157\n",
       "850 2018-03-02  16.117787\n",
       "851 2018-03-03  -8.030111\n",
       "\n",
       "[852 rows x 2 columns]"
      ]
     },
     "execution_count": 7,
     "metadata": {},
     "output_type": "execute_result"
    }
   ],
   "source": [
    "del imputation_78[imputation_78.columns[0]]\n",
    "imputation_78"
   ]
  },
  {
   "cell_type": "markdown",
   "id": "dce3dea4",
   "metadata": {},
   "source": [
    "# Count the number of missing values in the dataframe"
   ]
  },
  {
   "cell_type": "code",
   "execution_count": 8,
   "id": "ecdb1d73",
   "metadata": {},
   "outputs": [
    {
     "data": {
      "text/plain": [
       "date      0\n",
       "value    81\n",
       "dtype: int64"
      ]
     },
     "execution_count": 8,
     "metadata": {},
     "output_type": "execute_result"
    }
   ],
   "source": [
    "#finding the missing values of imputation_78\n",
    "\n",
    "imputation_78.isna().sum()"
   ]
  },
  {
   "cell_type": "code",
   "execution_count": 9,
   "id": "17e3c15b",
   "metadata": {},
   "outputs": [
    {
     "data": {
      "text/plain": [
       "time      0\n",
       "value    48\n",
       "dtype: int64"
      ]
     },
     "execution_count": 9,
     "metadata": {},
     "output_type": "execute_result"
    }
   ],
   "source": [
    "#finding the missing values of imputation_32\n",
    "\n",
    "imputation_32.isna().sum()"
   ]
  },
  {
   "cell_type": "code",
   "execution_count": 10,
   "id": "864017fc",
   "metadata": {},
   "outputs": [
    {
     "data": {
      "text/plain": [
       "x    9\n",
       "y    0\n",
       "dtype: int64"
      ]
     },
     "execution_count": 10,
     "metadata": {},
     "output_type": "execute_result"
    }
   ],
   "source": [
    "#finding the missing values of imputation_12\n",
    "\n",
    "imputation_12.isna().sum()"
   ]
  },
  {
   "cell_type": "markdown",
   "id": "b9c3e7e4",
   "metadata": {},
   "source": [
    "# Plot the distribution of data points using a histogram"
   ]
  },
  {
   "cell_type": "code",
   "execution_count": 11,
   "id": "32640580",
   "metadata": {},
   "outputs": [
    {
     "data": {
      "text/plain": [
       "array([[<AxesSubplot:title={'center':'x'}>,\n",
       "        <AxesSubplot:title={'center':'y'}>]], dtype=object)"
      ]
     },
     "execution_count": 11,
     "metadata": {},
     "output_type": "execute_result"
    },
    {
     "data": {
      "image/png": "[encoded data removed]",
      "text/plain": [
       "<Figure size 432x288 with 2 Axes>"
      ]
     },
     "metadata": {
      "needs_background": "light"
     },
     "output_type": "display_data"
    }
   ],
   "source": [
    "#Histogram for imputation_12\n",
    "\n",
    "imputation_12.hist(column=[\"x\", \"y\"]) "
   ]
  },
  {
   "cell_type": "code",
   "execution_count": 12,
   "id": "49017b05",
   "metadata": {},
   "outputs": [
    {
     "data": {
      "text/plain": [
       "array([[<AxesSubplot:title={'center':'time'}>,\n",
       "        <AxesSubplot:title={'center':'value'}>]], dtype=object)"
      ]
     },
     "execution_count": 12,
     "metadata": {},
     "output_type": "execute_result"
    },
    {
     "data": {
      "image/png": "[encoded data removed]",
      "text/plain": [
       "<Figure size 432x288 with 2 Axes>"
      ]
     },
     "metadata": {
      "needs_background": "light"
     },
     "output_type": "display_data"
    }
   ],
   "source": [
    "#Histogram for imputation_32\n",
    "\n",
    "imputation_32.hist(column=[\"time\", \"value\"]) "
   ]
  },
  {
   "cell_type": "code",
   "execution_count": 13,
   "id": "04d4b66b",
   "metadata": {},
   "outputs": [
    {
     "data": {
      "text/plain": [
       "array([[<AxesSubplot:title={'center':'date'}>]], dtype=object)"
      ]
     },
     "execution_count": 13,
     "metadata": {},
     "output_type": "execute_result"
    },
    {
     "data": {
      "image/png": "[encoded data removed]",
      "text/plain": [
       "<Figure size 720x720 with 1 Axes>"
      ]
     },
     "metadata": {
      "needs_background": "light"
     },
     "output_type": "display_data"
    }
   ],
   "source": [
    "#Histogram for imputation_78\n",
    "\n",
    "imputation_78.hist(column=[\"date\"], figsize=(10,10)) "
   ]
  },
  {
   "cell_type": "code",
   "execution_count": 14,
   "id": "445c0d65",
   "metadata": {},
   "outputs": [
    {
     "data": {
      "text/plain": [
       "array([[<AxesSubplot:title={'center':'value'}>]], dtype=object)"
      ]
     },
     "execution_count": 14,
     "metadata": {},
     "output_type": "execute_result"
    },
    {
     "data": {
      "image/png": "[encoded data removed]",
      "text/plain": [
       "<Figure size 576x576 with 1 Axes>"
      ]
     },
     "metadata": {
      "needs_background": "light"
     },
     "output_type": "display_data"
    }
   ],
   "source": [
    "imputation_78.hist(column=[\"value\"], figsize=(8,8)) "
   ]
  },
  {
   "cell_type": "markdown",
   "id": "49d30816",
   "metadata": {},
   "source": [
    "# Create a lag plot (a lag plot shows t versus t+1)"
   ]
  },
  {
   "cell_type": "code",
   "execution_count": 15,
   "id": "79d106b9",
   "metadata": {},
   "outputs": [
    {
     "data": {
      "image/png": "[encoded data removed]",
      "text/plain": [
       "<Figure size 432x288 with 1 Axes>"
      ]
     },
     "metadata": {
      "needs_background": "light"
     },
     "output_type": "display_data"
    }
   ],
   "source": [
    "#log plot for imputation_78\n",
    "\n",
    "pd.plotting.lag_plot(imputation_78['date']);"
   ]
  },
  {
   "cell_type": "markdown",
   "id": "3aca35c4",
   "metadata": {},
   "source": [
    "For imputation_78 of \"date\" data matters"
   ]
  },
  {
   "cell_type": "code",
   "execution_count": 16,
   "id": "0690d1ff",
   "metadata": {},
   "outputs": [
    {
     "data": {
      "image/png": "[encoded data removed]",
      "text/plain": [
       "<Figure size 432x288 with 1 Axes>"
      ]
     },
     "metadata": {
      "needs_background": "light"
     },
     "output_type": "display_data"
    }
   ],
   "source": [
    "pd.plotting.lag_plot(imputation_78['value']);"
   ]
  },
  {
   "cell_type": "markdown",
   "id": "63f0729c",
   "metadata": {},
   "source": [
    "For imputation_78 of \"value\" data doesn't matters"
   ]
  },
  {
   "cell_type": "code",
   "execution_count": 17,
   "id": "307db1cc",
   "metadata": {},
   "outputs": [
    {
     "data": {
      "image/png": "[encoded data removed]",
      "text/plain": [
       "<Figure size 432x288 with 1 Axes>"
      ]
     },
     "metadata": {
      "needs_background": "light"
     },
     "output_type": "display_data"
    }
   ],
   "source": [
    "#log plot for imputation_32\n",
    "\n",
    "pd.plotting.lag_plot(imputation_32['value']);"
   ]
  },
  {
   "cell_type": "markdown",
   "id": "f013d9e1",
   "metadata": {},
   "source": [
    "For imputation_32 data doesn't matters"
   ]
  },
  {
   "cell_type": "code",
   "execution_count": 18,
   "id": "3ea71da7",
   "metadata": {},
   "outputs": [
    {
     "data": {
      "image/png": "[encoded data removed]",
      "text/plain": [
       "<Figure size 432x288 with 1 Axes>"
      ]
     },
     "metadata": {
      "needs_background": "light"
     },
     "output_type": "display_data"
    }
   ],
   "source": [
    "\n",
    "pd.plotting.lag_plot(imputation_32['time']);"
   ]
  },
  {
   "cell_type": "markdown",
   "id": "db44ff79",
   "metadata": {},
   "source": [
    "For imputation_32 of time data matters"
   ]
  },
  {
   "cell_type": "code",
   "execution_count": 19,
   "id": "0302aec1",
   "metadata": {},
   "outputs": [
    {
     "data": {
      "image/png": "[encoded data removed]",
      "text/plain": [
       "<Figure size 432x288 with 1 Axes>"
      ]
     },
     "metadata": {
      "needs_background": "light"
     },
     "output_type": "display_data"
    }
   ],
   "source": [
    "#log plot for imputation_12\n",
    "\n",
    "pd.plotting.lag_plot(imputation_12['x']);"
   ]
  },
  {
   "cell_type": "markdown",
   "id": "ce4f1a6c",
   "metadata": {},
   "source": [
    "Data doesn't matters to \"x\" at imputation_12"
   ]
  },
  {
   "cell_type": "code",
   "execution_count": 20,
   "id": "92ee5bfc",
   "metadata": {},
   "outputs": [
    {
     "data": {
      "image/png": "[encoded data removed]",
      "text/plain": [
       "<Figure size 432x288 with 1 Axes>"
      ]
     },
     "metadata": {
      "needs_background": "light"
     },
     "output_type": "display_data"
    }
   ],
   "source": [
    "pd.plotting.lag_plot(imputation_12['y']);"
   ]
  },
  {
   "cell_type": "markdown",
   "id": "ab90763a",
   "metadata": {},
   "source": [
    "Data matters to \"y\" at imputation_12"
   ]
  },
  {
   "cell_type": "markdown",
   "id": "f0231aa3",
   "metadata": {},
   "source": [
    "# Interpolation"
   ]
  },
  {
   "cell_type": "code",
   "execution_count": 21,
   "id": "9251017e",
   "metadata": {},
   "outputs": [
    {
     "data": {
      "text/plain": [
       "date      0\n",
       "value    81\n",
       "dtype: int64"
      ]
     },
     "execution_count": 21,
     "metadata": {},
     "output_type": "execute_result"
    }
   ],
   "source": [
    "imputation_78.isna().sum()"
   ]
  },
  {
   "cell_type": "markdown",
   "id": "51a05e7b",
   "metadata": {},
   "source": [
    "Linear Interpolation for imputation_78"
   ]
  },
  {
   "cell_type": "code",
   "execution_count": 22,
   "id": "c0379ba5",
   "metadata": {},
   "outputs": [],
   "source": [
    "imputation_78.value.replace(np.nan,'NaN',inplace=True)"
   ]
  },
  {
   "cell_type": "code",
   "execution_count": 23,
   "id": "a7559103",
   "metadata": {},
   "outputs": [
    {
     "data": {
      "text/plain": [
       "array([13.39430395943768, -3.800715003954167, 28.09815224865972,\n",
       "       20.50056215948146, 33.98195476658137, 14.16976260187337,\n",
       "       20.91615450549683, 24.27269978827026, 26.3119030712411,\n",
       "       41.50927108949857, 37.3027138542863, 15.46360963769365,\n",
       "       32.05580339342758, 'NaN', 28.52134731884023, 31.03081278430244,\n",
       "       11.62517137176265, 9.694257690463619, 19.84971949394425,\n",
       "       35.82167951606947, 16.33561832999456, 22.16048636105176,\n",
       "       0.8500188584609845, 14.89190704732553, 24.22582221066767,\n",
       "       17.62992945827096, 18.80294300905889, 17.85943388625979,\n",
       "       8.899153726098678, 19.70658007412035, 15.38825377143652,\n",
       "       18.17695502272152, 7.406368389820177, 26.34642518275071,\n",
       "       33.81781682278874, 25.04286854506832, -4.463429634955041,\n",
       "       23.70400952807361, 31.38929469994647, 21.29929371923012,\n",
       "       29.35168737609388, 27.06547432547596, 1.160701896203193,\n",
       "       15.2482442217594, 40.26189536406149, 19.65807299739717,\n",
       "       13.79529924215046, 8.446941871334975, 24.82899135238949,\n",
       "       21.52343091368344, 31.38201214171983, 22.59521084508072,\n",
       "       27.07122529510086, 26.13635663516188, 18.51360796421941,\n",
       "       19.92575253441731, 2.645897831936594, 19.97209117737544,\n",
       "       32.24858911554742, 16.26330686274641, 8.98457515703342,\n",
       "       27.82797227421685, 31.62741255745936, 4.322464653154901,\n",
       "       24.35714836090806, 24.83291447884442, 29.78535626239949,\n",
       "       -3.824871180607001, 15.19967826860509, 14.45526624996771,\n",
       "       11.27839999325518, 25.25323049514873, 17.85693575807403,\n",
       "       16.44659718211296, 30.25882503467312, 17.55427801058481,\n",
       "       35.0979250127121, 25.22159777303777, 13.90406751250798,\n",
       "       26.02826990544918, 19.10872439046456, 21.06431683171894,\n",
       "       36.5378951031217, 34.55392165199683, 22.36100471338413,\n",
       "       22.77730898554013, 0.1904252381550897, -4.1083453008272,\n",
       "       12.11237803973704, 13.63536155990392, 16.29526819613783,\n",
       "       25.60836886630421, 13.64483267166464, 0.2433183343248118,\n",
       "       9.7464904809027, 22.79443471338433, 27.44568933300883,\n",
       "       41.06963829618816, 35.62571915656306, 18.04196479833809,\n",
       "       18.28758937610843, 22.79561085082029, 16.28202620666748,\n",
       "       22.90788819025626, 15.09563237884104, 12.21563297382519,\n",
       "       1.270594801398104, 23.59618137877647, 18.71928795504981,\n",
       "       35.23282092192886, 34.02832441725134, 14.33833065282646,\n",
       "       23.53532220546685, 8.152235174494207, 3.639846853791042,\n",
       "       25.05163791556475, 12.07722723707485, 16.67134687504682,\n",
       "       29.53873298033318, 29.48512493433892, 27.18063684412794,\n",
       "       23.12618263355668, 12.30364893009681, 22.07270483844847,\n",
       "       4.362031603354506, 19.46503345712744, 24.36993608048401,\n",
       "       15.00036344941548, 24.00463174536735, 12.5615754563556,\n",
       "       7.24808654218328, 17.91817202618328, 2.749497441358372,\n",
       "       14.76758749312433, 28.3145071592293, 16.56140989325753,\n",
       "       12.11563764139295, 21.92553974298307, 4.602010501106314,\n",
       "       12.78080425062914, 13.79593310721622, 7.775057961355063,\n",
       "       24.20433905530848, 11.66858605635696, 29.87264904334994,\n",
       "       17.08908079971699, 32.4716662677591, 25.29916372684928,\n",
       "       24.95563039475453, 6.322255430617346, 24.49640998860308,\n",
       "       14.60360608084051, 34.16296398225398, 27.01365619322262,\n",
       "       21.22710353204437, 10.96678426713122, 23.08126696912797,\n",
       "       12.07593721538848, -5.261473270766587, 10.94157045645175,\n",
       "       16.53247777547531, 11.58536713344239, 15.28365778954406,\n",
       "       18.83284394899919, 32.41667079676392, 14.83508481730733,\n",
       "       16.41941305180382, 21.81344701122902, 14.2892548836482,\n",
       "       11.94815195594203, 14.95282363333734, 27.8768669701271,\n",
       "       7.836120603647936, 32.31368814896975, 18.39647809951125,\n",
       "       15.68970164770242, 20.76627386435936, 22.50052640772245,\n",
       "       28.40225472198322, 34.72560299756493, 26.23716170903587,\n",
       "       18.94444013879053, 32.13196013934159, 26.89336514021628,\n",
       "       9.609671121812156, 23.65484305102926, 10.69668641386638,\n",
       "       27.58236466231509, 32.24012570952178, 4.280860425698684,\n",
       "       4.948466754639043, 11.85706675516388, 18.39014806520953,\n",
       "       11.46397688785727, 34.17640925759788, 18.38022298594584,\n",
       "       7.590274332982901, 15.1600880406795, 13.86207201916187,\n",
       "       4.232728953439393, 22.6651533031062, 32.09879268394145,\n",
       "       -2.036647255811815, 16.69776743568042, 29.19083251729121,\n",
       "       35.03184780535968, 25.96811103789943, 22.98301853761761,\n",
       "       32.94434221279668, -0.3673153845532759, -2.479610432939211,\n",
       "       38.46990386676754, 13.82829932806787, 16.88478193519299,\n",
       "       9.342846464367863, 30.20865063680059, 22.91143345153389,\n",
       "       6.595259993511995, -5.05270030707716, 10.55512743496074,\n",
       "       -0.6275178386631417, 37.12198849186853, 7.767380599746389,\n",
       "       32.06793912623377, 24.06262180644528, 30.08904022971761,\n",
       "       14.97868832928875, 36.23347450122166, 29.39353449169615,\n",
       "       9.070225137796816, 19.98034902587606, 36.02051009380771,\n",
       "       7.508933529364628, 23.06136350359525, 40.82705828211414,\n",
       "       26.65823716354721, 5.745929937605405, 10.55812895984993,\n",
       "       6.273500651241825, 24.76880560845555, 15.32301645835868,\n",
       "       20.29552412838827, 12.79863477560851, 27.6164388993308,\n",
       "       38.64581658278159, 25.94931038789537, 36.839343044854,\n",
       "       29.2199103992256, 23.7509718904996, 20.15105951904915,\n",
       "       38.41189954476977, 6.29072892872542, 24.9840750933478,\n",
       "       25.87653551285579, 14.06453751283951, 14.12321588184797,\n",
       "       13.16079569334211, 27.53280489416435, 26.28319832490056,\n",
       "       30.03483489812096, 32.32977701816067, 11.45503619319455,\n",
       "       16.1774193696269, 1.889354814410083, 12.20495723854493,\n",
       "       12.46293214070588, 22.83287079022919, 11.79326550951263,\n",
       "       31.3485514325936, 10.16289502344967, 20.52823383122528,\n",
       "       5.877974534069367, 25.76248552610783, 12.08436722472747,\n",
       "       37.26013337240616, 33.02449401760221, 15.8316594529375,\n",
       "       30.14603652114041, -2.089916059763187, 33.9823858833115,\n",
       "       15.15084226412089, 20.27622967072715, 24.49163996479084,\n",
       "       10.26156243473755, 15.12484412137915, 2.600593022232829,\n",
       "       12.51445064947082, 14.68453641261442, 25.39282941964403,\n",
       "       29.07345265570488, 24.01534142492255, 11.28345160675192,\n",
       "       12.90244581818718, 26.49853857457139, 3.787276388362667,\n",
       "       24.41866285553149, 21.79755588024659, 8.352290622268852,\n",
       "       4.559056278742927, 12.09173284204574, 37.14928707227635,\n",
       "       3.205736908857695, 16.36403088305487, 29.63767053212971,\n",
       "       22.44154680300715, 34.75037949140137, 5.554893863625598,\n",
       "       23.000873306533, 11.37081489451245, 32.14780338315303,\n",
       "       3.883859804286359, 20.13575245629148, 13.04018325377421,\n",
       "       42.26988576669935, 25.57822532962124, 25.35090045243607,\n",
       "       17.8584780507833, 17.03675695733351, 26.37106921307198,\n",
       "       6.10251005789225, 7.981390477337095, 35.48413869812308,\n",
       "       29.50936376087715, 7.140090627856546, 20.03311837670184,\n",
       "       -4.778827450933814, 20.60354549269478, 20.63499956534801,\n",
       "       22.75838908356135, 27.73494020553281, 4.857411552475227,\n",
       "       10.68222333165767, 34.32819335727837, 6.30200552718545,\n",
       "       1.177699855703956, 30.96720576384066, 1.324080328626181,\n",
       "       37.26788813224591, 11.57139874464325, 35.43909505098706,\n",
       "       18.94694490717401, 7.303508378799126, 19.00330357284466,\n",
       "       35.87750746901224, 19.45916808017734, 14.44871883855769,\n",
       "       30.14990392376698, 24.08434528496893, 34.45423559532023,\n",
       "       22.05383361522439, 6.409520067062225, 41.11576478999945,\n",
       "       24.94903643399062, 19.64425717470384, 14.82492903295784,\n",
       "       13.81067275930863, 17.09755452677314, 43.09863574441446,\n",
       "       29.18914131679597, 22.47023004889657, 8.286926363082825,\n",
       "       16.71373818368502, 26.22857437065, 11.309144845669,\n",
       "       25.81232301822443, 29.49447019768559, 3.932609445182628,\n",
       "       30.34858609270223, 23.67040769434348, 32.05127910152738,\n",
       "       26.61115003714167, 7.134778573335295, 8.836058539267844,\n",
       "       21.73681127009824, 31.98909881550863, 30.48986842994753,\n",
       "       3.937480542440749, 22.18629238286633, 19.89011583984603,\n",
       "       0.2204854023742016, 37.05992863241734, 36.06898328104445,\n",
       "       14.88196609992367, 32.34295170505964, 29.47457632431671,\n",
       "       13.23760814688536, 23.10109288802744, 24.20143701785963,\n",
       "       22.13325923765408, 7.145537056848912, 22.11364906523219,\n",
       "       20.6692077680003, 27.98151212933527, 29.21624574062891,\n",
       "       13.22459811131885, 23.39840550974629, 12.72140877986379,\n",
       "       14.23001980562556, 23.85267331236884, 26.35387583597528,\n",
       "       23.5246774479731, 29.0669458250707, 28.98975974511767,\n",
       "       19.44155646058747, 13.11974464270355, 27.1435057525302,\n",
       "       6.270048343163177, 41.09734686583927, 9.50314340025352,\n",
       "       25.14638203872718, 25.95125110728837, 6.167272968865651,\n",
       "       42.16625935580809, 33.53367924137244, 16.11818715308202,\n",
       "       17.64257243744949, 17.10818846045114, 20.5027291265867,\n",
       "       11.50769956432323, 5.025865195976566, 12.73264862689342,\n",
       "       -1.552880784071668, 22.88297310128575, 29.57702049449157,\n",
       "       21.90912703635787, 25.71442596446406, 36.69930306038133,\n",
       "       12.23875183753987, 33.28319668611587, 13.55495347692411,\n",
       "       40.25260502786777, 18.65318827503328, 20.88104541832078,\n",
       "       12.57303592180968, 8.930846167585402, 38.01368923499025,\n",
       "       18.60492059435296, 29.18606631006183, 12.82003662706569,\n",
       "       7.08069612866375, 16.05751399855203, 1.99514120905992,\n",
       "       16.04218026767159, 21.91907784106045, 35.01255486084156,\n",
       "       27.51874384545503, 15.1233147019495, 36.33850702260536,\n",
       "       17.76063971017391, 9.291272631735964, 9.609488351944917,\n",
       "       13.61645722286813, 10.54852305386291, 24.34729204942321,\n",
       "       29.84455118502007, 14.14362729420493, -5.109417998369903,\n",
       "       24.89036928807808, 4.335845071822265, 11.88670219347697,\n",
       "       30.09221920286095, 19.10163768467615, 14.15325172855967,\n",
       "       11.16321634522085, 10.54512468482262, 2.868495327013029,\n",
       "       26.6806700344424, 19.32971118921236, 12.64783376245897,\n",
       "       26.76094594226503, 8.623868803794942, 12.41107597975121,\n",
       "       7.641538356901608, 4.888088284500105, 17.5871102592041,\n",
       "       7.030636275496819, 33.04873346910616, 3.959979545767986,\n",
       "       22.41527524929721, 7.438520631086124, 23.79291282397169,\n",
       "       23.22457283788872, 3.580193045721277, 29.03461902667708,\n",
       "       -8.22262484527436, 6.462173428494623, 9.130352029132363,\n",
       "       26.8835449325306, 39.51281348377333, 35.11207812153529,\n",
       "       22.29241011084607, 16.9795711818492, 14.91268928247756,\n",
       "       18.79052857791426, 6.662228429547222, 10.67533871551908,\n",
       "       20.74142212708533, -1.004457714681447, 27.6525206192333,\n",
       "       34.2288113576286, 26.66947399921987, 4.849466584430441,\n",
       "       16.33724988825979, 26.32614144644522, 14.30088061409085,\n",
       "       41.4028433413197, 10.29908104671468, 28.30671594966203,\n",
       "       18.11109429882339, 13.2535962419834, 10.61126893780458,\n",
       "       28.0953298047552, 29.98279227650099, 27.00794653904964,\n",
       "       34.61778190827832, 28.41516017149338, 30.50866877236867,\n",
       "       5.325903931013841, 23.92270066722376, 16.89679513444623,\n",
       "       23.06751122139865, 23.13229423670555, 21.52165426861589,\n",
       "       14.25339092975666, 9.108599462210634, 28.85822151327327,\n",
       "       28.91150704246212, 19.03101162560013, 1.601644554051262,\n",
       "       15.7927883744269, 11.19844617829295, 33.25320865138909,\n",
       "       24.77263100805708, 9.943346638837042, 7.806746670084904,\n",
       "       21.68117737089629, 23.61703319315176, 6.865804600257569,\n",
       "       8.35184445749465, 24.94825138961097, 10.83689703690569,\n",
       "       23.35380481571877, 36.15083873742298, 18.24442749042101,\n",
       "       39.74784737209451, 20.58148732309065, 26.4766718383931,\n",
       "       13.8994786100846, 24.86195416262709, 28.23705937455157,\n",
       "       23.68160929602435, 12.88020577570786, 32.40804815827465,\n",
       "       25.15926605724274, 13.1357885148393, 24.21005911518508,\n",
       "       16.77639593618799, 32.47177884098491, 12.75237538379824,\n",
       "       16.68120466120002, 34.74828194310211, -5.212556979933304,\n",
       "       22.78178353451697, -6.50636461813825, 20.2174287803358,\n",
       "       30.83992704949915, 11.59010127611699, 11.20070413764932,\n",
       "       15.91218423678147, -1.204539919549624, 15.18931588721728,\n",
       "       19.1057336608273, 42.73031927211887, 27.65847009380817,\n",
       "       11.17386995317077, 12.41995824917091, 37.76067745461608,\n",
       "       32.97320873975224, 22.99443063113229, 24.93383563536266,\n",
       "       17.68110207511215, 17.92720467869096, 30.32216375173181,\n",
       "       29.97210050094929, 26.17864951005854, 35.55084899734618,\n",
       "       28.77668451551565, 35.86010333383302, 20.95107121522004,\n",
       "       32.30058139209847, 37.8140966729374, 14.9606754410085,\n",
       "       14.72796208303712, 13.31043061660645, 17.12015643617784,\n",
       "       14.70418226520513, 37.59218853602648, 6.239973810061318,\n",
       "       25.03364292624969, 26.1882756507174, 16.27381077052092,\n",
       "       21.14646811074139, 19.88962718826288, 36.48546401845601,\n",
       "       9.777337974330958, 10.05646165301093, 26.94427572041655,\n",
       "       19.661961678045, 33.74645430410079, 14.90845062511878,\n",
       "       28.27900215052478, 28.9767675866142, 24.18160075320901,\n",
       "       28.23943585506724, 9.621953695957101, 20.72839614894129,\n",
       "       4.777956724873608, 8.979761468323362, 22.33656777379183,\n",
       "       24.52141887997067, -13.37967282490625, 5.771674602530632,\n",
       "       15.40063045172722, 11.32899876721572, 16.86091154662421,\n",
       "       20.12437861353282, 32.35640893755159, 26.08227118542959,\n",
       "       18.980285870539, 22.21620714054279, 32.57697393661597,\n",
       "       32.46077704798355, 12.28938930909653, 31.66389344482179,\n",
       "       21.08664570353323, 19.90747400546412, 4.934807194744302,\n",
       "       -1.053033376314637, 12.82912919750819, 27.72488476806765,\n",
       "       16.09474435037206, 6.636385473026394, 15.17136271487153,\n",
       "       12.56904241090639, 17.65968313099304, -0.442686875312063,\n",
       "       41.52686480384861, 16.63315728154831, 16.4362236733522,\n",
       "       32.31534835926509, 25.99167729076413, 7.880784304271868,\n",
       "       34.62391594738172, 29.16096888447843, 11.25468087594052,\n",
       "       18.92618054522561, 14.9128632861081, 6.435604429360255,\n",
       "       14.73937107740096, 12.60334945069985, 39.30955658786667,\n",
       "       27.90104514897656, 40.10744030086278, -0.937350521300516,\n",
       "       33.44640879999101, 27.23336343062611, 15.43416041451934,\n",
       "       27.8474098406591, -6.04121102929129, 10.59798875132482,\n",
       "       33.72394260795558, 36.46813404649774, 18.32257093887451,\n",
       "       30.06453284055539, 27.87302349748531, 24.47175573236967,\n",
       "       1.81911344881086, 19.95043903837134, 37.0210206349212,\n",
       "       31.73210149007925, 6.186470008145687, 33.26155025182005,\n",
       "       7.592561243267617, 20.53361911327707, 15.42472629722077,\n",
       "       29.44896246467378, -7.081900264020327, 12.10904344162469,\n",
       "       12.35185303536603, 25.17557723767696, 23.86002119052037,\n",
       "       3.260213138558679, 17.91692581573516, -6.776542170700029,\n",
       "       29.22287921000942, 20.87383217894476, 31.73728039408707,\n",
       "       19.64004739999422, 30.85509602958311, 16.77452674709182,\n",
       "       19.06280134016539, 15.17475802433054, 3.59004688297221,\n",
       "       10.74129781277416, 15.61288166937717, 18.29630625254982,\n",
       "       17.30501245188138, 4.174784836043287, 35.52872549086546,\n",
       "       24.55260982160515, 19.58229175203972, 10.52859129685569,\n",
       "       14.03684086895233, 19.0483880436129, 19.86306449196528,\n",
       "       12.82331702521871, 7.807886017918984, 16.37408521091229,\n",
       "       29.12878689162159, 20.87732700568874, 24.47632746000891,\n",
       "       26.02459101741206, 28.94365923616205, 31.24921118707924,\n",
       "       11.24030707887775, 29.01352252542705, -8.146939291084898,\n",
       "       27.185763821057, 25.74527788196755, 24.25821853238914,\n",
       "       14.62691717167588, 6.947059453750926, 26.5018086651649,\n",
       "       28.70518164863732, 14.61110445412303, 25.71999266183505,\n",
       "       28.05001493703575, 26.85511631239182, 10.35617603227392,\n",
       "       8.280864678254803, 18.56820885512662, 19.9247345430774,\n",
       "       31.39384583517018, 24.73959857615068, 29.17354589890274,\n",
       "       23.8992910632801, 20.29835504578909, 19.93324488956512,\n",
       "       18.8638495735914, 19.47188579917449, 18.06868185561726,\n",
       "       16.56162579396204, 33.21930522243495, 23.64355687282708,\n",
       "       -4.404824667027928, 18.46253183372513, 16.23566547904893,\n",
       "       28.22143977512917, 10.4227371405519, 10.17686523967462,\n",
       "       29.98140672922488, 27.7853905422956, 29.47949851641326,\n",
       "       26.74509645363934, 17.98518777690338, 17.80326793971213,\n",
       "       13.5474343813422, 14.4690962839202, 30.46679789825012,\n",
       "       13.72215660169, 16.11778660210533, -8.030111001567974],\n",
       "      dtype=object)"
      ]
     },
     "execution_count": 23,
     "metadata": {},
     "output_type": "execute_result"
    }
   ],
   "source": [
    "imputation_78.value.unique()"
   ]
  },
  {
   "cell_type": "code",
   "execution_count": null,
   "id": "2b02a1f3",
   "metadata": {},
   "outputs": [],
   "source": [
    "imputation_78.interpolate()"
   ]
  },
  {
   "cell_type": "code",
   "execution_count": 24,
   "id": "305dacc6",
   "metadata": {},
   "outputs": [
    {
     "data": {
      "text/plain": [
       "date     0\n",
       "value    0\n",
       "dtype: int64"
      ]
     },
     "execution_count": 24,
     "metadata": {},
     "output_type": "execute_result"
    }
   ],
   "source": [
    "imputation_78.isna().sum()"
   ]
  },
  {
   "cell_type": "markdown",
   "id": "b29dba4c",
   "metadata": {},
   "source": [
    "Linear Interpolation for imputation_32"
   ]
  },
  {
   "cell_type": "code",
   "execution_count": 26,
   "id": "50b7555f",
   "metadata": {},
   "outputs": [
    {
     "data": {
      "text/plain": [
       "time      0\n",
       "value    48\n",
       "dtype: int64"
      ]
     },
     "execution_count": 26,
     "metadata": {},
     "output_type": "execute_result"
    }
   ],
   "source": [
    "imputation_32.isna().sum()"
   ]
  },
  {
   "cell_type": "code",
   "execution_count": 27,
   "id": "64659acc",
   "metadata": {},
   "outputs": [],
   "source": [
    "imputation_32.value.replace(np.nan,'NaN',inplace=True)"
   ]
  },
  {
   "cell_type": "code",
   "execution_count": 28,
   "id": "bea80313",
   "metadata": {},
   "outputs": [
    {
     "data": {
      "text/plain": [
       "array([0.0, 2.5287792004118286, 2.4190199404092203, 0.6650522588384435,\n",
       "       0.5066553379182692, 2.9389262614623655, 5.3248485622337505,\n",
       "       5.028136718463893, 3.0460691229251298, 'NaN', 4.755282581475766,\n",
       "       6.81354928623375, 3.814563137556413, 3.009323221053136,\n",
       "       6.426248294920404, 5.397210132095022, 1.5206224970531363,\n",
       "       2.9389262614623646, 4.310881403098884, 3.0161932680083385,\n",
       "       -1.2754468647687853, -1.83697019872103e-15, -0.06787893123932687,\n",
       "       -3.016193268008336, -4.310881403098883, -2.938926261462368,\n",
       "       -1.5206224970531375, -2.6769957092939984, -5.3972101320950205,\n",
       "       -6.426248294920407, -4.755282581475757, -3.0093232210531373,\n",
       "       -3.8145631375564086, -6.165704146726301, -6.8135492862337514,\n",
       "       -4.755282581475772, -3.046069122925128, -5.028136718463891,\n",
       "       -5.324848562233754, -2.938926261462371, -0.5066553379182708,\n",
       "       -0.6650522588384506, -2.4190199404092194, -2.528779200411832,\n",
       "       -6.123233995736766e-15, 2.528779200411831, 2.4190199404092247,\n",
       "       0.6650522588384378, 0.5066553379182699, 2.9389262614623775,\n",
       "       5.324848562233752, 5.028136718463886, 3.046069122925132,\n",
       "       2.622022229739783, 4.755282581475761, 6.813549286233744,\n",
       "       6.165704146726309, 3.814563137556405, 3.009323221053134,\n",
       "       4.755282581475776, 5.397210132095015, 2.676995709294002,\n",
       "       1.520622497053137, 2.9389262614623886, 4.310881403098882,\n",
       "       3.016193268008342, 0.0678789312393484, -1.2754468647687898,\n",
       "       -1.9721765311365092e-14, 1.275446864768789, -0.06787893123933264,\n",
       "       -3.016193268008326, -4.3108814030988825, -2.938926261462372,\n",
       "       -1.5206224970531368, -2.676995709294016, -5.397210132095029,\n",
       "       -6.426248294920405, -4.7552825814757895, -3.0093232210531378,\n",
       "       -3.8145631375563935, -6.165704146726297, -6.813549286233749,\n",
       "       -4.755282581475778, -2.6220222297397875, -3.0460691229251218,\n",
       "       -5.028136718463893, -2.9389262614623624, -0.5066553379182772,\n",
       "       -0.6650522588384251, -2.4190199404092168, -2.528779200411835,\n",
       "       -1.2246467991473532e-14, 2.5287792004118237, 0.6650522588384589,\n",
       "       0.506655337918267, 2.938926261462368, 5.324848562233758,\n",
       "       5.028136718463866, 3.0460691229251395, 2.6220222297397924,\n",
       "       4.755282581475788, 6.813549286233761, 3.0093232210531413,\n",
       "       4.7552825814757975, 5.397210132095071, 2.6769957092940353,\n",
       "       1.5206224970531348, 2.938926261462357, 4.3108814030988905,\n",
       "       3.0161932680083696, 0.06787893123935351, -1.27544686476879,\n",
       "       5.026003721596855e-15, 1.2754468647687975, -0.06787893123930488,\n",
       "       -3.0161932680083297, -1.520622497053139, -2.676995709293994,\n",
       "       -5.397210132095025, -4.755282581475738, -3.009323221053142,\n",
       "       -3.814563137556412, -6.165704146726316, -6.813549286233742,\n",
       "       -4.755282581475726, -2.6220222297398115, -3.0460691229251005,\n",
       "       -5.0281367184638786, -5.324848562233755, -2.9389262614623686,\n",
       "       -0.5066553379182888, -0.6650522588384302, -2.419019940409205,\n",
       "       -2.5287792004118286, 2.528779200411812, 0.6650522588384473,\n",
       "       0.506655337918273, 2.938926261462333, 5.32484856223374,\n",
       "       5.028136718463898, 3.046069122925121, 2.6220222297397986,\n",
       "       4.7552825814757504, 6.8135492862337514, 6.165704146726294,\n",
       "       3.81456313755639, 3.0093232210531484, 4.755282581475767,\n",
       "       5.3972101320950525, 2.676995709294022, 1.5206224970531357,\n",
       "       2.9389262614623237, 0.06787893123932709, -1.2754468647687993,\n",
       "       -2.7069646106249213e-14, 1.2754468647687882, -3.0161932680083474,\n",
       "       -4.310881403098893, -1.5206224970531315, -2.676995709294012,\n",
       "       -5.397210132095044, -6.42624829492041, -4.75528258147577,\n",
       "       -3.0093232210531347, -3.8145631375564313, -6.165704146726336,\n",
       "       -4.755282581475759, -2.6220222297397786, -3.0460691229251204,\n",
       "       -5.028136718463852, -5.324848562233766, -2.9389262614624028,\n",
       "       -0.5066553379182828, -2.4190199404091794, -2.52877920041184,\n",
       "       -2.4492935982947064e-14, 2.5287792004118534, 2.4190199404092017,\n",
       "       0.6650522588384271, 0.5066553379182794, 2.9389262614622846,\n",
       "       5.324848562233729, 5.028136718463912, 3.0460691229251466,\n",
       "       2.6220222297397804, 4.755282581475774, 6.813549286233721,\n",
       "       6.165704146726275, 3.009323221053156, 4.755282581475734,\n",
       "       6.426248294920395, 5.397210132095034, 2.676995709293993,\n",
       "       1.5206224970531443, 2.9389262614623908, 4.310881403098872,\n",
       "       3.01619326800828, 0.06787893123935529, -1.2754468647688082,\n",
       "       1.2754468647687793, -0.06787893123933197, -3.0161932680083656,\n",
       "       -4.310881403098902, -2.938926261462313, -2.6769957092939736,\n",
       "       -5.397210132095015, -6.4262482949204305, -4.755282581475747,\n",
       "       -3.009323221053159, -3.8145631375564504, -6.165704146726263,\n",
       "       -6.813549286233762, -4.755282581475793, -2.6220222297397897,\n",
       "       -3.0460691229251395, -5.324848562233777, -0.5066553379182936,\n",
       "       -0.6650522588384999, -2.4190199404092, -2.5287792004118166,\n",
       "       -2.1944605482798222e-15, 2.4190199404091812, 0.6650522588384069,\n",
       "       0.5066553379182506, 2.93892626146245, 5.324848562233749,\n",
       "       5.028136718463882, 3.046069122925127, 2.6220222297397595,\n",
       "       6.8135492862337275, 6.165704146726347, 3.814563137556445,\n",
       "       3.0093232210531253, 4.755282581475764, 6.426248294920403,\n",
       "       5.397210132095098, 2.6769957092939745, 1.520622497053117,\n",
       "       2.9389262614624294, 4.31088140309888, 3.0161932680083376,\n",
       "       0.06787893123935462, -1.2754468647687998, 4.0189460353677185e-14,\n",
       "       1.2754468647687878, -0.06787893123927513, -3.0161932680083834,\n",
       "       -2.938926261462274, -1.520622497053133, -5.397210132095024,\n",
       "       -6.426248294920422, -4.755282581475728, -3.0093232210531484,\n",
       "       -3.8145631375563775, -6.165704146726282, -2.62202222973979,\n",
       "       -3.0460691229250676, -5.028136718463916, -5.324848562233784,\n",
       "       -2.9389262614622864, -0.5066553379182721, -0.6650522588384282,\n",
       "       -2.528779200411828, -9.358282283522861e-14, 2.5287792004118654,\n",
       "       2.419019940409253, 0.6650522588384034, 0.506655337918241,\n",
       "       2.9389262614623584, 5.324848562233755, 5.028136718463884,\n",
       "       3.0460691229251076, 2.622022229739766, 4.755282581475707,\n",
       "       6.813549286233735, 6.165704146726328, 3.814563137556426,\n",
       "       3.0093232210531324, 4.755282581475674, 6.42624829492041,\n",
       "       5.397210132095079, 2.6769957092939567, 1.520622497053125,\n",
       "       2.93892626146234, 4.310881403098888, 3.0161932680083194,\n",
       "       0.06787893123933686, -8.42767451229819e-14, 1.2754468647687962,\n",
       "       -0.06787893123929267, -3.0161932680084007, -4.310881403098885,\n",
       "       -2.938926261462363, -1.5206224970531244, -4.755282581475818,\n",
       "       -3.009323221053141, -3.8145631375563966, -6.813549286233748,\n",
       "       -2.622022229739784, -3.046069122925087, -5.028136718463843,\n",
       "       -2.9389262614623775, -0.5066553379182657, -0.6650522588384487,\n",
       "       -2.4190199404091484, -2.528779200411822, 2.5287792004118717,\n",
       "       2.4190199404092327, 0.6650522588384753, 0.5066553379182475,\n",
       "       2.9389262614623815, 5.028136718463864, 3.046069122925179,\n",
       "       4.755282581475729, 6.813549286233741, 3.8145631375564992,\n",
       "       3.00932322105314, 4.755282581475698, 6.426248294920418,\n",
       "       5.3972101320950605, 2.6769957092940304, 1.5206224970531337,\n",
       "       4.310881403098897, 3.0161932680083012, 0.0678789312394108,\n",
       "       -1.275446864768783, -2.4001839302014945e-14, 1.2754468647688046,\n",
       "       -0.06787893123931066, -3.016193268008327, -2.9389262614623384,\n",
       "       -1.520622497053151, -2.676995709294051, -5.397210132094969,\n",
       "       -6.4262482949204065, -3.009323221053168, -3.8145631375564157,\n",
       "       -6.1657041467262275, -6.813549286233743, -4.7552825814758375,\n",
       "       -2.622022229739813, -3.046069122925107, -5.324848562233771,\n",
       "       -2.938926261462355, -0.506655337918295, -2.4190199404091683,\n",
       "       -2.5287792004118157, -4.898587196589413e-14, 2.528779200411772,\n",
       "       2.4190199404091555, 0.6650522588384551, 0.506655337918253,\n",
       "       2.9389262614622607, 5.324848562233767, 5.028136718463845,\n",
       "       3.046069122925068, 2.6220222297397795, 4.755282581475629,\n",
       "       6.813549286233756, 6.165704146726382, 3.814563137556388,\n",
       "       3.009323221053119, 4.755282581475824, 5.397210132095135,\n",
       "       2.676995709294035, 1.5206224970531512, 4.31088140309887,\n",
       "       3.016193268008501, 0.06787893123917477, -1.2754468647687744,\n",
       "       -3.478120705705801e-14, 1.2754468647687782, -0.06787893123936284,\n",
       "       -3.0161932680084367, -4.310881403098868, -2.9389262614624276,\n",
       "       -2.6769957092939776, -5.397210132095079, -6.4262482949203985,\n",
       "       -4.755282581475656, -3.0093232210531324, -3.814563137556343,\n",
       "       -6.1657041467263385, -6.813549286233776, -4.75528258147569,\n",
       "       -2.6220222297398053, -3.0460691229250343, -5.028136718463721,\n",
       "       -5.324848562233704, -2.9389262614623326, -0.5066553379182885,\n",
       "       -0.6650522588383381, -2.52877920041181, -2.6687396531226885e-14,\n",
       "       2.5287792004117784, 2.4190199404092265, 0.6650522588385268,\n",
       "       0.5066553379182597, 5.324848562233774, 5.028136718463917,\n",
       "       3.046069122925232, 2.6220222297397866, 4.7552825814759005,\n",
       "       6.813549286233763, 6.1657041467263625, 3.8145631375565534,\n",
       "       3.009323221053126, 4.755282581475849, 5.3972101320951165,\n",
       "       2.6769957092942005, 1.520622497053159, 2.9389262614624143,\n",
       "       4.310881403098878, 0.06787893123934086, -1.275446864768766,\n",
       "       2.5493698763908948e-14, 1.2754468647687864, -0.0678789312393806,\n",
       "       -3.016193268008271, -2.938926261462403, -1.5206224970531261,\n",
       "       -2.676995709293995, -5.397210132094914, -6.426248294920391,\n",
       "       -4.755282581475632, -3.8145631375563616, -6.165704146726174,\n",
       "       -6.813549286233769, -4.755282581475666, -2.622022229739799,\n",
       "       -3.046069122925055, -5.028136718463742, -5.324848562233697,\n",
       "       -2.9389262614623104, -0.5066553379182825, -0.6650522588383581,\n",
       "       -2.419019940409174, -2.5287792004118037], dtype=object)"
      ]
     },
     "execution_count": 28,
     "metadata": {},
     "output_type": "execute_result"
    }
   ],
   "source": [
    "imputation_32.value.unique()"
   ]
  },
  {
   "cell_type": "code",
   "execution_count": 29,
   "id": "b6c06d3d",
   "metadata": {},
   "outputs": [
    {
     "data": {
      "text/html": [
       "<div>\n",
       "<style scoped>\n",
       "    .dataframe tbody tr th:only-of-type {\n",
       "        vertical-align: middle;\n",
       "    }\n",
       "\n",
       "    .dataframe tbody tr th {\n",
       "        vertical-align: top;\n",
       "    }\n",
       "\n",
       "    .dataframe thead th {\n",
       "        text-align: right;\n",
       "    }\n",
       "</style>\n",
       "<table border=\"1\" class=\"dataframe\">\n",
       "  <thead>\n",
       "    <tr style=\"text-align: right;\">\n",
       "      <th></th>\n",
       "      <th>time</th>\n",
       "      <th>value</th>\n",
       "    </tr>\n",
       "  </thead>\n",
       "  <tbody>\n",
       "    <tr>\n",
       "      <th>0</th>\n",
       "      <td>0.00</td>\n",
       "      <td>0.0</td>\n",
       "    </tr>\n",
       "    <tr>\n",
       "      <th>1</th>\n",
       "      <td>0.02</td>\n",
       "      <td>2.528779</td>\n",
       "    </tr>\n",
       "    <tr>\n",
       "      <th>2</th>\n",
       "      <td>0.04</td>\n",
       "      <td>2.41902</td>\n",
       "    </tr>\n",
       "    <tr>\n",
       "      <th>3</th>\n",
       "      <td>0.06</td>\n",
       "      <td>0.665052</td>\n",
       "    </tr>\n",
       "    <tr>\n",
       "      <th>4</th>\n",
       "      <td>0.08</td>\n",
       "      <td>0.506655</td>\n",
       "    </tr>\n",
       "    <tr>\n",
       "      <th>...</th>\n",
       "      <td>...</td>\n",
       "      <td>...</td>\n",
       "    </tr>\n",
       "    <tr>\n",
       "      <th>495</th>\n",
       "      <td>9.90</td>\n",
       "      <td>-2.938926</td>\n",
       "    </tr>\n",
       "    <tr>\n",
       "      <th>496</th>\n",
       "      <td>9.92</td>\n",
       "      <td>-0.506655</td>\n",
       "    </tr>\n",
       "    <tr>\n",
       "      <th>497</th>\n",
       "      <td>9.94</td>\n",
       "      <td>-0.665052</td>\n",
       "    </tr>\n",
       "    <tr>\n",
       "      <th>498</th>\n",
       "      <td>9.96</td>\n",
       "      <td>-2.41902</td>\n",
       "    </tr>\n",
       "    <tr>\n",
       "      <th>499</th>\n",
       "      <td>9.98</td>\n",
       "      <td>-2.528779</td>\n",
       "    </tr>\n",
       "  </tbody>\n",
       "</table>\n",
       "<p>500 rows × 2 columns</p>\n",
       "</div>"
      ],
      "text/plain": [
       "     time     value\n",
       "0    0.00       0.0\n",
       "1    0.02  2.528779\n",
       "2    0.04   2.41902\n",
       "3    0.06  0.665052\n",
       "4    0.08  0.506655\n",
       "..    ...       ...\n",
       "495  9.90 -2.938926\n",
       "496  9.92 -0.506655\n",
       "497  9.94 -0.665052\n",
       "498  9.96  -2.41902\n",
       "499  9.98 -2.528779\n",
       "\n",
       "[500 rows x 2 columns]"
      ]
     },
     "execution_count": 29,
     "metadata": {},
     "output_type": "execute_result"
    }
   ],
   "source": [
    "imputation_32.interpolate()"
   ]
  },
  {
   "cell_type": "code",
   "execution_count": 30,
   "id": "80dd3fe5",
   "metadata": {},
   "outputs": [
    {
     "data": {
      "text/plain": [
       "time     0\n",
       "value    0\n",
       "dtype: int64"
      ]
     },
     "execution_count": 30,
     "metadata": {},
     "output_type": "execute_result"
    }
   ],
   "source": [
    "imputation_32.isna().sum()"
   ]
  },
  {
   "cell_type": "markdown",
   "id": "cb4af6a4",
   "metadata": {},
   "source": [
    "Linear Interpolation for imputation_12"
   ]
  },
  {
   "cell_type": "code",
   "execution_count": 31,
   "id": "f706bf45",
   "metadata": {},
   "outputs": [
    {
     "data": {
      "text/plain": [
       "x    9\n",
       "y    0\n",
       "dtype: int64"
      ]
     },
     "execution_count": 31,
     "metadata": {},
     "output_type": "execute_result"
    }
   ],
   "source": [
    "imputation_12.isna().sum()"
   ]
  },
  {
   "cell_type": "code",
   "execution_count": 32,
   "id": "0c06802b",
   "metadata": {},
   "outputs": [],
   "source": [
    "imputation_12.x.replace(np.nan,'NaN',inplace=True)"
   ]
  },
  {
   "cell_type": "code",
   "execution_count": 33,
   "id": "e8a15d3a",
   "metadata": {},
   "outputs": [
    {
     "data": {
      "text/html": [
       "<div>\n",
       "<style scoped>\n",
       "    .dataframe tbody tr th:only-of-type {\n",
       "        vertical-align: middle;\n",
       "    }\n",
       "\n",
       "    .dataframe tbody tr th {\n",
       "        vertical-align: top;\n",
       "    }\n",
       "\n",
       "    .dataframe thead th {\n",
       "        text-align: right;\n",
       "    }\n",
       "</style>\n",
       "<table border=\"1\" class=\"dataframe\">\n",
       "  <thead>\n",
       "    <tr style=\"text-align: right;\">\n",
       "      <th></th>\n",
       "      <th>x</th>\n",
       "      <th>y</th>\n",
       "    </tr>\n",
       "  </thead>\n",
       "  <tbody>\n",
       "    <tr>\n",
       "      <th>0</th>\n",
       "      <td>1.4</td>\n",
       "      <td>10.00</td>\n",
       "    </tr>\n",
       "    <tr>\n",
       "      <th>1</th>\n",
       "      <td>1.45</td>\n",
       "      <td>10.25</td>\n",
       "    </tr>\n",
       "    <tr>\n",
       "      <th>2</th>\n",
       "      <td>1.5</td>\n",
       "      <td>10.50</td>\n",
       "    </tr>\n",
       "    <tr>\n",
       "      <th>3</th>\n",
       "      <td>1.55</td>\n",
       "      <td>10.75</td>\n",
       "    </tr>\n",
       "    <tr>\n",
       "      <th>4</th>\n",
       "      <td>1.6</td>\n",
       "      <td>11.00</td>\n",
       "    </tr>\n",
       "    <tr>\n",
       "      <th>...</th>\n",
       "      <td>...</td>\n",
       "      <td>...</td>\n",
       "    </tr>\n",
       "    <tr>\n",
       "      <th>103</th>\n",
       "      <td>6.55</td>\n",
       "      <td>35.75</td>\n",
       "    </tr>\n",
       "    <tr>\n",
       "      <th>104</th>\n",
       "      <td>6.6</td>\n",
       "      <td>36.00</td>\n",
       "    </tr>\n",
       "    <tr>\n",
       "      <th>105</th>\n",
       "      <td>6.65</td>\n",
       "      <td>36.25</td>\n",
       "    </tr>\n",
       "    <tr>\n",
       "      <th>106</th>\n",
       "      <td>6.7</td>\n",
       "      <td>36.50</td>\n",
       "    </tr>\n",
       "    <tr>\n",
       "      <th>107</th>\n",
       "      <td>6.75</td>\n",
       "      <td>36.75</td>\n",
       "    </tr>\n",
       "  </tbody>\n",
       "</table>\n",
       "<p>108 rows × 2 columns</p>\n",
       "</div>"
      ],
      "text/plain": [
       "        x      y\n",
       "0     1.4  10.00\n",
       "1    1.45  10.25\n",
       "2     1.5  10.50\n",
       "3    1.55  10.75\n",
       "4     1.6  11.00\n",
       "..    ...    ...\n",
       "103  6.55  35.75\n",
       "104   6.6  36.00\n",
       "105  6.65  36.25\n",
       "106   6.7  36.50\n",
       "107  6.75  36.75\n",
       "\n",
       "[108 rows x 2 columns]"
      ]
     },
     "execution_count": 33,
     "metadata": {},
     "output_type": "execute_result"
    }
   ],
   "source": [
    "imputation_12.interpolate()"
   ]
  },
  {
   "cell_type": "code",
   "execution_count": 34,
   "id": "386616b5",
   "metadata": {},
   "outputs": [
    {
     "data": {
      "text/plain": [
       "x    0\n",
       "y    0\n",
       "dtype: int64"
      ]
     },
     "execution_count": 34,
     "metadata": {},
     "output_type": "execute_result"
    }
   ],
   "source": [
    "imputation_12.isnull().sum()"
   ]
  },
  {
   "cell_type": "code",
   "execution_count": 37,
   "id": "792fb4ce",
   "metadata": {},
   "outputs": [
    {
     "data": {
      "text/plain": [
       "array([[<AxesSubplot:title={'center':'y'}>]], dtype=object)"
      ]
     },
     "execution_count": 37,
     "metadata": {},
     "output_type": "execute_result"
    },
    {
     "data": {
      "image/png": "[encoded data removed]",
      "text/plain": [
       "<Figure size 432x288 with 1 Axes>"
      ]
     },
     "metadata": {
      "needs_background": "light"
     },
     "output_type": "display_data"
    }
   ],
   "source": [
    "#After interpolation\n",
    "\n",
    "\n",
    "imputation_12.hist(column=[\"y\"]) "
   ]
  },
  {
   "cell_type": "code",
   "execution_count": null,
   "id": "6d23b45a",
   "metadata": {},
   "outputs": [],
   "source": []
  }
 ],
 "metadata": {
  "kernelspec": {
   "display_name": "Python 3 (ipykernel)",
   "language": "python",
   "name": "python3"
  },
  "language_info": {
   "codemirror_mode": {
    "name": "ipython",
    "version": 3
   },
   "file_extension": ".py",
   "mimetype": "text/x-python",
   "name": "python",
   "nbconvert_exporter": "python",
   "pygments_lexer": "ipython3",
   "version": "3.9.7"
  },
  "toc": {
   "base_numbering": 1,
   "nav_menu": {},
   "number_sections": true,
   "sideBar": true,
   "skip_h1_title": false,
   "title_cell": "Table of Contents",
   "title_sidebar": "Contents",
   "toc_cell": false,
   "toc_position": {},
   "toc_section_display": true,
   "toc_window_display": true
  }
 },
 "nbformat": 4,
 "nbformat_minor": 5
}
