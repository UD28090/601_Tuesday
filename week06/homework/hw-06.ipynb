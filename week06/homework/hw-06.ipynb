{
 "cells": [
  {
   "cell_type": "markdown",
   "metadata": {},
   "source": [
    "# Homework 6\n",
    "\n",
    "\n",
    "This homework is designed to process a large csv file (bigger than pandas can handle)\n",
    "https://github.com/msaricaumbc/DS_data/blob/master/bigfile.csv.zip?raw=true\n",
    "\n",
    "Write code to perform/answer the following actions:\n",
    "\n",
    "1. Print how many records processed\n",
    "1. Create a histogram of ages\n",
    "1. List the top 20 occupations \n",
    "\n",
    "Don't use Pandas or Dask"
   ]
  },
  {
   "cell_type": "code",
   "execution_count": 1,
   "metadata": {},
   "outputs": [],
   "source": [
    "from zipfile import ZipFile"
   ]
  },
  {
   "cell_type": "code",
   "execution_count": 2,
   "metadata": {},
   "outputs": [],
   "source": [
    "from urllib import request\n",
    "\n",
    "def download_file(file_name, file_url):\n",
    "    res = request.urlopen(file_url)\n",
    "    with open(file_name,'wb') as file:\n",
    "        file.write(res.read())"
   ]
  },
  {
   "cell_type": "code",
   "execution_count": 3,
   "metadata": {},
   "outputs": [],
   "source": [
    "file_url = 'https://github.com/msaricaumbc/DS_data/blob/master/bigfile.csv.zip?raw=true'\n",
    "file_name = 'bigfile'\n",
    "download_file(file_name, file_url)"
   ]
  },
  {
   "cell_type": "code",
   "execution_count": 4,
   "metadata": {},
   "outputs": [],
   "source": [
    "def unzip(file_name, path='./'):\n",
    "    # opening the zip file in READ mode \n",
    "    with ZipFile(file_name, 'r') as zip: \n",
    "        # printing all the contents of the zip file \n",
    "        zip.printdir() \n",
    "\n",
    "        # extracting all the files \n",
    "        print('Extracting all the files now...') \n",
    "        zip.extractall(path = path) \n",
    "        print('Done!') "
   ]
  },
  {
   "cell_type": "code",
   "execution_count": 5,
   "metadata": {},
   "outputs": [
    {
     "name": "stdout",
     "output_type": "stream",
     "text": [
      "File Name                                             Modified             Size\n",
      "bigfile.csv                                    2022-03-07 20:08:48  18034182194\n",
      "Extracting all the files now...\n",
      "Done!\n"
     ]
    }
   ],
   "source": [
    "#Print how many records processed\n",
    "unzip(file_name)"
   ]
  },
  {
   "cell_type": "code",
   "execution_count": 56,
   "metadata": {
    "scrolled": true
   },
   "outputs": [
    {
     "name": "stdout",
     "output_type": "stream",
     "text": [
      "[('Joshua', 'Cruz', 1990, 32, 'Producer- television/film/video', '743-19-2943', 0)\n",
      " ('Samuel', 'Barrera', 2001, 21, 'Forensic psychologist', '696-37-5079', 0)\n",
      " ('John', 'Perez', 1963, 59, 'Financial adviser', '165-50-1258', 0) ...\n",
      " ('Roger', 'Johnson', 1952, 70, 'Trading standards officer', '602-20-4113', 0)\n",
      " ('Elizabeth', 'Williams', 1940, 82, 'Leisure centre manager', '818-52-2199', 0)\n",
      " ('Gregory', 'Hunter', 1947, 75, 'Conference centre manager', '440-03-1888', 0)]\n"
     ]
    },
    {
     "data": {
      "text/plain": [
       "(array([8.5883e+04, 1.4155e+04, 1.5712e+04, 2.3216e+04, 1.8825e+04,\n",
       "        2.0085e+04, 2.8615e+04, 2.2564e+04, 2.3521e+04, 2.3684e+04,\n",
       "        3.1678e+04, 2.3815e+04, 2.3423e+04, 3.0524e+04, 2.2018e+04,\n",
       "        2.1015e+04, 2.5875e+04, 1.8097e+04, 1.6589e+04, 1.5307e+04,\n",
       "        1.8096e+04, 1.1884e+04, 1.0425e+04, 1.1937e+04, 7.7820e+03,\n",
       "        6.5770e+03, 7.0180e+03, 4.2400e+03, 3.6590e+03, 2.9990e+03,\n",
       "        3.0610e+03, 1.7870e+03, 1.4120e+03, 1.4080e+03, 8.3500e+02,\n",
       "        6.0800e+02, 5.4800e+02, 2.9800e+02, 2.2600e+02, 1.9000e+02,\n",
       "        1.5300e+02, 8.3000e+01, 6.2000e+01, 5.2000e+01, 2.2000e+01,\n",
       "        1.3000e+01, 1.0000e+01, 6.0000e+00, 3.0000e+00, 5.0000e+00]),\n",
       " array([ 17. ,  20.3,  23.6,  26.9,  30.2,  33.5,  36.8,  40.1,  43.4,\n",
       "         46.7,  50. ,  53.3,  56.6,  59.9,  63.2,  66.5,  69.8,  73.1,\n",
       "         76.4,  79.7,  83. ,  86.3,  89.6,  92.9,  96.2,  99.5, 102.8,\n",
       "        106.1, 109.4, 112.7, 116. , 119.3, 122.6, 125.9, 129.2, 132.5,\n",
       "        135.8, 139.1, 142.4, 145.7, 149. , 152.3, 155.6, 158.9, 162.2,\n",
       "        165.5, 168.8, 172.1, 175.4, 178.7, 182. ]),\n",
       " <BarContainer object of 50 artists>)"
      ]
     },
     "execution_count": 56,
     "metadata": {},
     "output_type": "execute_result"
    },
    {
     "data": {
      "image/png": "[encoded data removed]",
      "text/plain": [
       "<Figure size 432x288 with 1 Axes>"
      ]
     },
     "metadata": {
      "needs_background": "light"
     },
     "output_type": "display_data"
    }
   ],
   "source": [
    "\n",
    "import csv\n",
    "import numpy as np\n",
    "import matplotlib.pyplot as plt\n",
    "\n",
    "\n",
    "data = np.genfromtxt(\"bigfile.csv\", delimiter=\",\", names=[\"first_name\", \"last_name\",\"year\",\"age\",\"T\", \"g\", \"lk\"],dtype=None,encoding='utf-8')\n",
    "print(data)\n",
    "\n",
    "plt.hist(data['age'], bins = 50)\n",
    "\n"
   ]
  },
  {
   "cell_type": "code",
   "execution_count": 58,
   "metadata": {},
   "outputs": [
    {
     "data": {
      "text/plain": [
       "array([('Joshua', 'Cruz', 1990, 32, 'Producer- television/film/video', '743-19-2943', 0),\n",
       "       ('Samuel', 'Barrera', 2001, 21, 'Forensic psychologist', '696-37-5079', 0),\n",
       "       ('John', 'Perez', 1963, 59, 'Financial adviser', '165-50-1258', 0),\n",
       "       ...,\n",
       "       ('Roger', 'Johnson', 1952, 70, 'Trading standards officer', '602-20-4113', 0),\n",
       "       ('Elizabeth', 'Williams', 1940, 82, 'Leisure centre manager', '818-52-2199', 0),\n",
       "       ('Gregory', 'Hunter', 1947, 75, 'Conference centre manager', '440-03-1888', 0)],\n",
       "      dtype=[('first_name', '<U11'), ('last_name', '<U11'), ('year', '<i8'), ('age', '<i8'), ('T', '<U59'), ('g', '<U11'), ('lk', '<i8')])"
      ]
     },
     "execution_count": 58,
     "metadata": {},
     "output_type": "execute_result"
    }
   ],
   "source": [
    "data"
   ]
  },
  {
   "cell_type": "code",
   "execution_count": 59,
   "metadata": {},
   "outputs": [
    {
     "name": "stdout",
     "output_type": "stream",
     "text": [
      "Total records processed 600000\n"
     ]
    }
   ],
   "source": [
    "print('Total records processed',len(data))"
   ]
  },
  {
   "cell_type": "code",
   "execution_count": 62,
   "metadata": {},
   "outputs": [],
   "source": [
    "import csv\n",
    "\n",
    "occupation=[]\n",
    "with open('bigfile.csv', 'r') as file:\n",
    "    while(True):\n",
    "        line = file.readline()#Reading line by line from CSV file\n",
    "        if not line:\n",
    "            break\n",
    "        line2 = line.split(',')\n",
    "       \n",
    "        occupation.append(line2[4])#appending all the occupations to another list\n",
    "file.close()\n"
   ]
  },
  {
   "cell_type": "code",
   "execution_count": 63,
   "metadata": {},
   "outputs": [
    {
     "name": "stdout",
     "output_type": "stream",
     "text": [
      "Top 20 Occupations :\n",
      "Scientist- product/process development\n",
      "Psychiatric nurse\n",
      "Therapist- sports\n",
      "Toxicologist\n",
      "Social researcher\n",
      "Environmental health practitioner\n",
      "Naval architect\n",
      "Teacher- primary school\n",
      "Administrator- charities/voluntary organisations\n",
      "Chartered loss adjuster\n",
      "Photographer\n",
      "Field trials officer\n",
      "Radio producer\n",
      "Ranger/warden\n",
      "Electrical engineer\n",
      "Radiographer- diagnostic\n",
      "Acupuncturist\n",
      "Administrator- education\n",
      "Quantity surveyor\n",
      "Research scientist (medical)\n"
     ]
    }
   ],
   "source": [
    "#List the top 20 occupations\n",
    "\n",
    "\n",
    "\n",
    "a=[]\n",
    "occupation_u = []\n",
    "count_list=[]\n",
    "for i in occupation:\n",
    "    if i not in occupation_u :\n",
    "        occupation_u.append(i)#appending all the unique occupations in to a list\n",
    "        \n",
    "for i in occupation_u :\n",
    "    c = occupation.count(i)\n",
    "    count_list.append(c)#Counting the Number of Occupations\n",
    "    \n",
    "dict1 = dict(zip(occupation_u,count_list))#Converting the lists in to Dictionary \n",
    "\n",
    "sorted_dict = sorted(dict1.items(),key=lambda x:x[1],reverse=True)\n",
    "\n",
    "for i in range(0,639):\n",
    "    s = sorted_dict[i][0]\n",
    "    a.append(s)\n",
    "print('Top 20 Occupations :')\n",
    "for i in range(0,20):\n",
    "    print(a[i])"
   ]
  },
  {
   "cell_type": "code",
   "execution_count": null,
   "metadata": {},
   "outputs": [],
   "source": []
  },
  {
   "cell_type": "code",
   "execution_count": null,
   "metadata": {},
   "outputs": [],
   "source": []
  }
 ],
 "metadata": {
  "kernelspec": {
   "display_name": "Python 3 (ipykernel)",
   "language": "python",
   "name": "python3"
  },
  "language_info": {
   "codemirror_mode": {
    "name": "ipython",
    "version": 3
   },
   "file_extension": ".py",
   "mimetype": "text/x-python",
   "name": "python",
   "nbconvert_exporter": "python",
   "pygments_lexer": "ipython3",
   "version": "3.9.7"
  },
  "toc": {
   "base_numbering": 1,
   "nav_menu": {},
   "number_sections": true,
   "sideBar": true,
   "skip_h1_title": false,
   "title_cell": "Table of Contents",
   "title_sidebar": "Contents",
   "toc_cell": false,
   "toc_position": {},
   "toc_section_display": true,
   "toc_window_display": false
  },
  "varInspector": {
   "cols": {
    "lenName": 16,
    "lenType": 16,
    "lenVar": 40
   },
   "kernels_config": {
    "python": {
     "delete_cmd_postfix": "",
     "delete_cmd_prefix": "del ",
     "library": "var_list.py",
     "varRefreshCmd": "print(var_dic_list())"
    },
    "r": {
     "delete_cmd_postfix": ") ",
     "delete_cmd_prefix": "rm(",
     "library": "var_list.r",
     "varRefreshCmd": "cat(var_dic_list()) "
    }
   },
   "types_to_exclude": [
    "module",
    "function",
    "builtin_function_or_method",
    "instance",
    "_Feature"
   ],
   "window_display": false
  }
 },
 "nbformat": 4,
 "nbformat_minor": 2
}
