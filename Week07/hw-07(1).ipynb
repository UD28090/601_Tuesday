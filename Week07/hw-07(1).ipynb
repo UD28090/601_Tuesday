{
 "cells": [
  {
   "cell_type": "markdown",
   "metadata": {},
   "source": [
    "# Homework 7\n"
   ]
  },
  {
   "cell_type": "markdown",
   "metadata": {},
   "source": [
    "You are waiting on some datasets from different teams but the approval process may take some time. \n",
    "\n",
    "You have no intention to wait! You will generate some fake data to get started. \n",
    "\n",
    "Here are some info you expect from the management:\n",
    "* Employees dataset contains employee id, name, lastname, phone, state (~ 10K records) (Use states of US east coast only) \n",
    "* Salary dataset contains employee id, department id, yearly salary\n",
    "* Department dataset contains department id, department name (5-10 departments) \n",
    "\n",
    "Here are the questions expected to be answered:\n",
    "\n",
    "1. Visualize the average salary of each department\n",
    "1. Visualize the total number of employees living in each state for each department\n",
    "1. Visualize salary distribution of different states\n",
    "1. Visualize salary distribution of different departments\n",
    "\n",
    "You can use faker library (but you don't have to): https://faker.readthedocs.io/en/master/\n",
    "\n",
    "`Optional:` \n",
    "\n",
    "Try to make dataframes realistic. \n",
    "* Salary distribution as normal distribution\n",
    "* Salary of different states can be higher for 5-10K compared to other states\n"
   ]
  },
  {
   "cell_type": "code",
   "execution_count": 30,
   "metadata": {},
   "outputs": [],
   "source": [
    "import numpy as np\n",
    "import pandas as pd\n",
    "import matplotlib.pyplot as plt\n",
    "import seaborn as sns"
   ]
  },
  {
   "cell_type": "markdown",
   "metadata": {},
   "source": [
    "# Creating a Fake Dataset"
   ]
  },
  {
   "cell_type": "markdown",
   "metadata": {},
   "source": [
    "## Employee Dataset "
   ]
  },
  {
   "cell_type": "code",
   "execution_count": 31,
   "metadata": {},
   "outputs": [
    {
     "name": "stdout",
     "output_type": "stream",
     "text": [
      "Requirement already satisfied: Faker in /Users/akhilaamaranayani/Anaconda3/anaconda3/lib/python3.9/site-packages (13.2.0)\n",
      "Requirement already satisfied: python-dateutil>=2.4 in /Users/akhilaamaranayani/Anaconda3/anaconda3/lib/python3.9/site-packages (from Faker) (2.8.2)\n",
      "Requirement already satisfied: six>=1.5 in /Users/akhilaamaranayani/Anaconda3/anaconda3/lib/python3.9/site-packages (from python-dateutil>=2.4->Faker) (1.16.0)\n"
     ]
    }
   ],
   "source": [
    "!pip install Faker \n"
   ]
  },
  {
   "cell_type": "code",
   "execution_count": 32,
   "metadata": {},
   "outputs": [
    {
     "name": "stdout",
     "output_type": "stream",
     "text": [
      "14\n",
      "{'Georgia', 'Florida', 'New York', 'New Jersy', 'New Hampshire', 'South Carolina', 'Maine', 'Pennsylvania', 'Maryland', 'VirginiaConnecticut', 'Rhode Island', 'Delaware', 'Massachusetts', 'North Carolina'}\n"
     ]
    }
   ],
   "source": [
    "import random\n",
    "from random import choices \n",
    "\n",
    "USA_States=['New Jersy','New York','North Carolina','Pennsylvania','Rhode Island','South Carolina','Virginia''Connecticut','Delaware','Florida','Georgia','Maine','Maryland','Massachusetts','New Hampshire']\n",
    "print(len(USA_States))\n",
    "\n",
    "States_list = choices(USA_States, k=10000)\n",
    "print(set(States_list))\n",
    "\n"
   ]
  },
  {
   "cell_type": "code",
   "execution_count": 33,
   "metadata": {},
   "outputs": [
    {
     "name": "stdout",
     "output_type": "stream",
     "text": [
      "New Jersy 712\n",
      "New York 692\n",
      "North Carolina 699\n",
      "Pennsylvania 703\n",
      "Rhode Island 707\n",
      "South Carolina 676\n",
      "VirginiaConnecticut 727\n",
      "Delaware 649\n",
      "Florida 740\n",
      "Georgia 728\n",
      "Maine 748\n",
      "Maryland 710\n",
      "Massachusetts 774\n",
      "New Hampshire 735\n"
     ]
    }
   ],
   "source": [
    "for e in USA_States:\n",
    "    print(e,States_list.count(e))\n",
    "    "
   ]
  },
  {
   "cell_type": "code",
   "execution_count": 34,
   "metadata": {},
   "outputs": [
    {
     "data": {
      "text/plain": [
       "[88604, 84899, 81640, 39958, 56764]"
      ]
     },
     "execution_count": 34,
     "metadata": {},
     "output_type": "execute_result"
    }
   ],
   "source": [
    "## Creating Random Employee_id\n",
    "\n",
    "Employee_id = random.sample(range(10001,99999),10000)\n",
    "\n",
    "Employee_id[:5]"
   ]
  },
  {
   "cell_type": "code",
   "execution_count": 35,
   "metadata": {},
   "outputs": [
    {
     "data": {
      "text/plain": [
       "[97563955, 28301366, 79476807, 37074190, 99600141]"
      ]
     },
     "execution_count": 35,
     "metadata": {},
     "output_type": "execute_result"
    }
   ],
   "source": [
    "## Creating Random Phone_number \n",
    "\n",
    "Phone_number = random.sample(range(10000001,99999999),10000)\n",
    "Phone_number[:5]"
   ]
  },
  {
   "cell_type": "code",
   "execution_count": 36,
   "metadata": {},
   "outputs": [
    {
     "name": "stdout",
     "output_type": "stream",
     "text": [
      "6824\n",
      "['Beth', 'Yaretzi', 'Sonya', 'Chanda', 'Curley']\n",
      "3176\n",
      "['Malvin', 'Anastacia', 'Ula', 'Brenden', 'Katharyn']\n"
     ]
    }
   ],
   "source": [
    "#Listing Firstnames of the Employee  \n",
    "\n",
    "\n",
    "from faker.providers.person.en import Provider\n",
    "firstnames = list(set(Provider.first_names))\n",
    "random.seed(44)\n",
    "random.shuffle(firstnames)\n",
    "print(len(firstnames))\n",
    "print(firstnames[:5])\n",
    "firstnames_2 = list(set(Provider.first_names))[:10000-6824]\n",
    "random.seed(42)\n",
    "random.shuffle(firstnames_2)\n",
    "print(len(firstnames_2))\n",
    "print(firstnames_2[:5])"
   ]
  },
  {
   "cell_type": "code",
   "execution_count": 37,
   "metadata": {},
   "outputs": [
    {
     "name": "stdout",
     "output_type": "stream",
     "text": [
      "['Daija', 'Kenisha', 'Armand', 'Karel', 'Rosaria']\n"
     ]
    }
   ],
   "source": [
    "firstnames.extend(firstnames_2)\n",
    "random.shuffle(firstnames)\n",
    "\n",
    "\n",
    "print(firstnames[:5])"
   ]
  },
  {
   "cell_type": "code",
   "execution_count": 38,
   "metadata": {},
   "outputs": [
    {
     "name": "stdout",
     "output_type": "stream",
     "text": [
      "['Daija', 'Kenisha', 'Armand', 'Karel', 'Rosaria', 'Jaxton', 'Lauren', 'Sasha', 'Carole', 'Aline']\n"
     ]
    },
    {
     "data": {
      "text/plain": [
       "['Tromp',\n",
       " \"D'Amore\",\n",
       " 'Halvorson',\n",
       " 'Berge',\n",
       " 'Torp',\n",
       " 'Thiel',\n",
       " 'Mitchell',\n",
       " 'Will',\n",
       " 'Doyle',\n",
       " 'Runolfsson']"
      ]
     },
     "execution_count": 38,
     "metadata": {},
     "output_type": "execute_result"
    }
   ],
   "source": [
    "#Listing Firstnames of the Employee  \n",
    "\n",
    "\n",
    "from faker.providers.person.en import Provider\n",
    "\n",
    "lastnames_list = list(Provider.last_names)\n",
    "\n",
    "random.seed(44)\n",
    "random.shuffle(lastnames_list)\n",
    "\n",
    "\n",
    "print(firstnames[:10])\n",
    "\n",
    "lastnames = lastnames_list*30\n",
    "lastnames = lastnames[:10000]\n",
    "random.shuffle(lastnames)\n",
    "\n",
    "lastnames[:10]"
   ]
  },
  {
   "cell_type": "code",
   "execution_count": 39,
   "metadata": {},
   "outputs": [
    {
     "name": "stdout",
     "output_type": "stream",
     "text": [
      "10000\n",
      "6824\n",
      "473\n",
      "10000\n",
      "14\n"
     ]
    }
   ],
   "source": [
    "for e in [Employee_id, firstnames, lastnames, Phone_number, States_list]:\n",
    "    print(len(set(e)))"
   ]
  },
  {
   "cell_type": "code",
   "execution_count": 40,
   "metadata": {},
   "outputs": [
    {
     "data": {
      "text/html": [
       "<div>\n",
       "<style scoped>\n",
       "    .dataframe tbody tr th:only-of-type {\n",
       "        vertical-align: middle;\n",
       "    }\n",
       "\n",
       "    .dataframe tbody tr th {\n",
       "        vertical-align: top;\n",
       "    }\n",
       "\n",
       "    .dataframe thead th {\n",
       "        text-align: right;\n",
       "    }\n",
       "</style>\n",
       "<table border=\"1\" class=\"dataframe\">\n",
       "  <thead>\n",
       "    <tr style=\"text-align: right;\">\n",
       "      <th></th>\n",
       "      <th>Employee ID</th>\n",
       "      <th>First name</th>\n",
       "      <th>Last name</th>\n",
       "      <th>Phone Number</th>\n",
       "      <th>State</th>\n",
       "    </tr>\n",
       "  </thead>\n",
       "  <tbody>\n",
       "    <tr>\n",
       "      <th>0</th>\n",
       "      <td>88604</td>\n",
       "      <td>Daija</td>\n",
       "      <td>Tromp</td>\n",
       "      <td>97563955</td>\n",
       "      <td>Rhode Island</td>\n",
       "    </tr>\n",
       "    <tr>\n",
       "      <th>1</th>\n",
       "      <td>84899</td>\n",
       "      <td>Kenisha</td>\n",
       "      <td>D'Amore</td>\n",
       "      <td>28301366</td>\n",
       "      <td>Maryland</td>\n",
       "    </tr>\n",
       "    <tr>\n",
       "      <th>2</th>\n",
       "      <td>81640</td>\n",
       "      <td>Armand</td>\n",
       "      <td>Halvorson</td>\n",
       "      <td>79476807</td>\n",
       "      <td>New Jersy</td>\n",
       "    </tr>\n",
       "    <tr>\n",
       "      <th>3</th>\n",
       "      <td>39958</td>\n",
       "      <td>Karel</td>\n",
       "      <td>Berge</td>\n",
       "      <td>37074190</td>\n",
       "      <td>New Hampshire</td>\n",
       "    </tr>\n",
       "    <tr>\n",
       "      <th>4</th>\n",
       "      <td>56764</td>\n",
       "      <td>Rosaria</td>\n",
       "      <td>Torp</td>\n",
       "      <td>99600141</td>\n",
       "      <td>New Hampshire</td>\n",
       "    </tr>\n",
       "  </tbody>\n",
       "</table>\n",
       "</div>"
      ],
      "text/plain": [
       "   Employee ID First name  Last name  Phone Number          State\n",
       "0        88604      Daija      Tromp      97563955   Rhode Island\n",
       "1        84899    Kenisha    D'Amore      28301366       Maryland\n",
       "2        81640     Armand  Halvorson      79476807      New Jersy\n",
       "3        39958      Karel      Berge      37074190  New Hampshire\n",
       "4        56764    Rosaria       Torp      99600141  New Hampshire"
      ]
     },
     "execution_count": 40,
     "metadata": {},
     "output_type": "execute_result"
    }
   ],
   "source": [
    "## Displaying Employee Dataframe\n",
    "\n",
    "df_Employee = pd.DataFrame({'Employee ID':Employee_id, 'First name':firstnames, 'Last name':lastnames, 'Phone Number':Phone_number, 'State':States_list})\n",
    "df_Employee.head()"
   ]
  },
  {
   "cell_type": "code",
   "execution_count": 41,
   "metadata": {},
   "outputs": [
    {
     "name": "stdout",
     "output_type": "stream",
     "text": [
      "10000\n"
     ]
    }
   ],
   "source": [
    "# Displaying Employee Data Frame Length\n",
    "print(len(df_Employee))\n"
   ]
  },
  {
   "cell_type": "markdown",
   "metadata": {},
   "source": [
    "### Salary Dataset "
   ]
  },
  {
   "cell_type": "code",
   "execution_count": 42,
   "metadata": {},
   "outputs": [
    {
     "name": "stdout",
     "output_type": "stream",
     "text": [
      "10000\n"
     ]
    },
    {
     "data": {
      "text/plain": [
       "[7, 4, 7, 1, 3]"
      ]
     },
     "execution_count": 42,
     "metadata": {},
     "output_type": "execute_result"
    }
   ],
   "source": [
    "## Creating Random department ID\n",
    "\n",
    "Department_id = [random.randint(1,7) for e in range(10000)]\n",
    "\n",
    "print(len(Department_id))\n",
    "Department_id[:5]"
   ]
  },
  {
   "cell_type": "code",
   "execution_count": 43,
   "metadata": {},
   "outputs": [
    {
     "data": {
      "text/plain": [
       "[105355, 209417, 98478, 170477, 86713]"
      ]
     },
     "execution_count": 43,
     "metadata": {},
     "output_type": "execute_result"
    }
   ],
   "source": [
    "## Creating the anual salary details\n",
    "\n",
    "Salary_Details = [random.randint(50000,214000) for e in range(10000)]\n",
    "Salary_Details[:5]"
   ]
  },
  {
   "cell_type": "code",
   "execution_count": 46,
   "metadata": {},
   "outputs": [
    {
     "data": {
      "text/html": [
       "<div>\n",
       "<style scoped>\n",
       "    .dataframe tbody tr th:only-of-type {\n",
       "        vertical-align: middle;\n",
       "    }\n",
       "\n",
       "    .dataframe tbody tr th {\n",
       "        vertical-align: top;\n",
       "    }\n",
       "\n",
       "    .dataframe thead th {\n",
       "        text-align: right;\n",
       "    }\n",
       "</style>\n",
       "<table border=\"1\" class=\"dataframe\">\n",
       "  <thead>\n",
       "    <tr style=\"text-align: right;\">\n",
       "      <th></th>\n",
       "      <th>Employee ID</th>\n",
       "      <th>DEPARTMENT ID</th>\n",
       "      <th>Yearly Salary</th>\n",
       "    </tr>\n",
       "  </thead>\n",
       "  <tbody>\n",
       "    <tr>\n",
       "      <th>0</th>\n",
       "      <td>88604</td>\n",
       "      <td>7</td>\n",
       "      <td>105355</td>\n",
       "    </tr>\n",
       "    <tr>\n",
       "      <th>1</th>\n",
       "      <td>84899</td>\n",
       "      <td>4</td>\n",
       "      <td>209417</td>\n",
       "    </tr>\n",
       "    <tr>\n",
       "      <th>2</th>\n",
       "      <td>81640</td>\n",
       "      <td>7</td>\n",
       "      <td>98478</td>\n",
       "    </tr>\n",
       "    <tr>\n",
       "      <th>3</th>\n",
       "      <td>39958</td>\n",
       "      <td>1</td>\n",
       "      <td>170477</td>\n",
       "    </tr>\n",
       "    <tr>\n",
       "      <th>4</th>\n",
       "      <td>56764</td>\n",
       "      <td>3</td>\n",
       "      <td>86713</td>\n",
       "    </tr>\n",
       "  </tbody>\n",
       "</table>\n",
       "</div>"
      ],
      "text/plain": [
       "   Employee ID  DEPARTMENT ID  Yearly Salary\n",
       "0        88604              7         105355\n",
       "1        84899              4         209417\n",
       "2        81640              7          98478\n",
       "3        39958              1         170477\n",
       "4        56764              3          86713"
      ]
     },
     "execution_count": 46,
     "metadata": {},
     "output_type": "execute_result"
    }
   ],
   "source": [
    "## Displaying Salary Dataframe\n",
    "\n",
    "df_SalaryDetails = pd.DataFrame({'Employee ID':Employee_id, 'DEPARTMENT ID':Department_id, 'Yearly Salary':Salary_Details})\n",
    "df_SalaryDetails.head()"
   ]
  },
  {
   "cell_type": "code",
   "execution_count": 47,
   "metadata": {},
   "outputs": [
    {
     "data": {
      "text/plain": [
       "Employee ID      0\n",
       "DEPARTMENT ID    0\n",
       "Yearly Salary    0\n",
       "dtype: int64"
      ]
     },
     "execution_count": 47,
     "metadata": {},
     "output_type": "execute_result"
    }
   ],
   "source": [
    "## Verifying the missing values\n",
    "df_SalaryDetails.isnull().sum()"
   ]
  },
  {
   "cell_type": "code",
   "execution_count": 48,
   "metadata": {},
   "outputs": [
    {
     "data": {
      "text/plain": [
       "array([7, 4, 1, 3, 5, 6, 2])"
      ]
     },
     "execution_count": 48,
     "metadata": {},
     "output_type": "execute_result"
    }
   ],
   "source": [
    "df_SalaryDetails['DEPARTMENT ID'].unique()"
   ]
  },
  {
   "cell_type": "markdown",
   "metadata": {},
   "source": [
    "### Department Dataset "
   ]
  },
  {
   "cell_type": "code",
   "execution_count": 49,
   "metadata": {},
   "outputs": [
    {
     "data": {
      "text/html": [
       "<div>\n",
       "<style scoped>\n",
       "    .dataframe tbody tr th:only-of-type {\n",
       "        vertical-align: middle;\n",
       "    }\n",
       "\n",
       "    .dataframe tbody tr th {\n",
       "        vertical-align: top;\n",
       "    }\n",
       "\n",
       "    .dataframe thead th {\n",
       "        text-align: right;\n",
       "    }\n",
       "</style>\n",
       "<table border=\"1\" class=\"dataframe\">\n",
       "  <thead>\n",
       "    <tr style=\"text-align: right;\">\n",
       "      <th></th>\n",
       "      <th>DEPARTMENT ID</th>\n",
       "    </tr>\n",
       "  </thead>\n",
       "  <tbody>\n",
       "    <tr>\n",
       "      <th>0</th>\n",
       "      <td>1</td>\n",
       "    </tr>\n",
       "    <tr>\n",
       "      <th>1</th>\n",
       "      <td>2</td>\n",
       "    </tr>\n",
       "    <tr>\n",
       "      <th>2</th>\n",
       "      <td>3</td>\n",
       "    </tr>\n",
       "    <tr>\n",
       "      <th>3</th>\n",
       "      <td>4</td>\n",
       "    </tr>\n",
       "    <tr>\n",
       "      <th>4</th>\n",
       "      <td>5</td>\n",
       "    </tr>\n",
       "    <tr>\n",
       "      <th>5</th>\n",
       "      <td>6</td>\n",
       "    </tr>\n",
       "    <tr>\n",
       "      <th>6</th>\n",
       "      <td>7</td>\n",
       "    </tr>\n",
       "  </tbody>\n",
       "</table>\n",
       "</div>"
      ],
      "text/plain": [
       "   DEPARTMENT ID\n",
       "0              1\n",
       "1              2\n",
       "2              3\n",
       "3              4\n",
       "4              5\n",
       "5              6\n",
       "6              7"
      ]
     },
     "execution_count": 49,
     "metadata": {},
     "output_type": "execute_result"
    }
   ],
   "source": [
    "df_Department = pd.DataFrame({'DEPARTMENT ID':list(range(1,8))})\n",
    "df_Department"
   ]
  },
  {
   "cell_type": "code",
   "execution_count": 50,
   "metadata": {},
   "outputs": [],
   "source": [
    "Department_dict = {1:'Supervisor', 2:'Software', 3:'Lawyer', 4:'Engineer', 4:'Seller', 5:'Market', 6:'Admin', 7:'Manager'}\n",
    "\n",
    "df_Department['DEPARTMENT NAME'] = df_Department['DEPARTMENT ID'].map(Department_dict)"
   ]
  },
  {
   "cell_type": "code",
   "execution_count": 51,
   "metadata": {},
   "outputs": [
    {
     "data": {
      "text/html": [
       "<div>\n",
       "<style scoped>\n",
       "    .dataframe tbody tr th:only-of-type {\n",
       "        vertical-align: middle;\n",
       "    }\n",
       "\n",
       "    .dataframe tbody tr th {\n",
       "        vertical-align: top;\n",
       "    }\n",
       "\n",
       "    .dataframe thead th {\n",
       "        text-align: right;\n",
       "    }\n",
       "</style>\n",
       "<table border=\"1\" class=\"dataframe\">\n",
       "  <thead>\n",
       "    <tr style=\"text-align: right;\">\n",
       "      <th></th>\n",
       "      <th>DEPARTMENT ID</th>\n",
       "      <th>DEPARTMENT NAME</th>\n",
       "    </tr>\n",
       "  </thead>\n",
       "  <tbody>\n",
       "    <tr>\n",
       "      <th>0</th>\n",
       "      <td>1</td>\n",
       "      <td>Supervisor</td>\n",
       "    </tr>\n",
       "    <tr>\n",
       "      <th>1</th>\n",
       "      <td>2</td>\n",
       "      <td>Software</td>\n",
       "    </tr>\n",
       "    <tr>\n",
       "      <th>2</th>\n",
       "      <td>3</td>\n",
       "      <td>Lawyer</td>\n",
       "    </tr>\n",
       "    <tr>\n",
       "      <th>3</th>\n",
       "      <td>4</td>\n",
       "      <td>Seller</td>\n",
       "    </tr>\n",
       "    <tr>\n",
       "      <th>4</th>\n",
       "      <td>5</td>\n",
       "      <td>Market</td>\n",
       "    </tr>\n",
       "    <tr>\n",
       "      <th>5</th>\n",
       "      <td>6</td>\n",
       "      <td>Admin</td>\n",
       "    </tr>\n",
       "    <tr>\n",
       "      <th>6</th>\n",
       "      <td>7</td>\n",
       "      <td>Manager</td>\n",
       "    </tr>\n",
       "  </tbody>\n",
       "</table>\n",
       "</div>"
      ],
      "text/plain": [
       "   DEPARTMENT ID DEPARTMENT NAME\n",
       "0              1      Supervisor\n",
       "1              2        Software\n",
       "2              3          Lawyer\n",
       "3              4          Seller\n",
       "4              5          Market\n",
       "5              6           Admin\n",
       "6              7         Manager"
      ]
     },
     "execution_count": 51,
     "metadata": {},
     "output_type": "execute_result"
    }
   ],
   "source": [
    "df_Department"
   ]
  },
  {
   "cell_type": "markdown",
   "metadata": {},
   "source": [
    "### Questions "
   ]
  },
  {
   "cell_type": "markdown",
   "metadata": {},
   "source": [
    "#### 1. Visualize the average salary of each department "
   ]
  },
  {
   "cell_type": "code",
   "execution_count": 52,
   "metadata": {},
   "outputs": [
    {
     "data": {
      "text/plain": [
       "Index(['Employee ID', 'DEPARTMENT ID', 'Yearly Salary'], dtype='object')"
      ]
     },
     "execution_count": 52,
     "metadata": {},
     "output_type": "execute_result"
    }
   ],
   "source": [
    "df_SalaryDetails.columns"
   ]
  },
  {
   "cell_type": "code",
   "execution_count": 53,
   "metadata": {},
   "outputs": [
    {
     "data": {
      "text/html": [
       "<div>\n",
       "<style scoped>\n",
       "    .dataframe tbody tr th:only-of-type {\n",
       "        vertical-align: middle;\n",
       "    }\n",
       "\n",
       "    .dataframe tbody tr th {\n",
       "        vertical-align: top;\n",
       "    }\n",
       "\n",
       "    .dataframe thead th {\n",
       "        text-align: right;\n",
       "    }\n",
       "</style>\n",
       "<table border=\"1\" class=\"dataframe\">\n",
       "  <thead>\n",
       "    <tr style=\"text-align: right;\">\n",
       "      <th></th>\n",
       "      <th>Employee ID</th>\n",
       "      <th>DEPARTMENT ID</th>\n",
       "      <th>Yearly Salary</th>\n",
       "      <th>DEPARTMENT NAME</th>\n",
       "    </tr>\n",
       "  </thead>\n",
       "  <tbody>\n",
       "    <tr>\n",
       "      <th>0</th>\n",
       "      <td>39958</td>\n",
       "      <td>1</td>\n",
       "      <td>170477</td>\n",
       "      <td>Supervisor</td>\n",
       "    </tr>\n",
       "    <tr>\n",
       "      <th>1</th>\n",
       "      <td>38682</td>\n",
       "      <td>1</td>\n",
       "      <td>209896</td>\n",
       "      <td>Supervisor</td>\n",
       "    </tr>\n",
       "    <tr>\n",
       "      <th>2</th>\n",
       "      <td>80050</td>\n",
       "      <td>1</td>\n",
       "      <td>137440</td>\n",
       "      <td>Supervisor</td>\n",
       "    </tr>\n",
       "    <tr>\n",
       "      <th>3</th>\n",
       "      <td>46991</td>\n",
       "      <td>1</td>\n",
       "      <td>67174</td>\n",
       "      <td>Supervisor</td>\n",
       "    </tr>\n",
       "    <tr>\n",
       "      <th>4</th>\n",
       "      <td>21751</td>\n",
       "      <td>1</td>\n",
       "      <td>145773</td>\n",
       "      <td>Supervisor</td>\n",
       "    </tr>\n",
       "  </tbody>\n",
       "</table>\n",
       "</div>"
      ],
      "text/plain": [
       "   Employee ID  DEPARTMENT ID  Yearly Salary DEPARTMENT NAME\n",
       "0        39958              1         170477      Supervisor\n",
       "1        38682              1         209896      Supervisor\n",
       "2        80050              1         137440      Supervisor\n",
       "3        46991              1          67174      Supervisor\n",
       "4        21751              1         145773      Supervisor"
      ]
     },
     "execution_count": 53,
     "metadata": {},
     "output_type": "execute_result"
    }
   ],
   "source": [
    "df_A1 = pd.merge(df_SalaryDetails, df_Department,how='right', on='DEPARTMENT ID')\n",
    "df_A1.head()"
   ]
  },
  {
   "cell_type": "code",
   "execution_count": 54,
   "metadata": {},
   "outputs": [
    {
     "data": {
      "image/png": "[encoded data removed]",
      "text/plain": [
       "<Figure size 576x648 with 1 Axes>"
      ]
     },
     "metadata": {
      "needs_background": "light"
     },
     "output_type": "display_data"
    }
   ],
   "source": [
    "plt.figure(figsize=(8,9))\n",
    "\n",
    "sns.barplot(data=df_A1, x='DEPARTMENT NAME', y='Yearly Salary')\n",
    "plt.title('Average Salary Over Departments')\n",
    "plt.show()"
   ]
  },
  {
   "cell_type": "markdown",
   "metadata": {},
   "source": [
    "We have seen all the similar salaries for each departments with various\n",
    "\n"
   ]
  },
  {
   "cell_type": "markdown",
   "metadata": {},
   "source": [
    "#### 2. Visualize the total number of employees living in each state for each department "
   ]
  },
  {
   "cell_type": "code",
   "execution_count": 55,
   "metadata": {},
   "outputs": [
    {
     "data": {
      "text/plain": [
       "Index(['Employee ID', 'First name', 'Last name', 'Phone Number', 'State'], dtype='object')"
      ]
     },
     "execution_count": 55,
     "metadata": {},
     "output_type": "execute_result"
    }
   ],
   "source": [
    "df_Employee.columns"
   ]
  },
  {
   "cell_type": "code",
   "execution_count": 56,
   "metadata": {},
   "outputs": [
    {
     "data": {
      "text/html": [
       "<div>\n",
       "<style scoped>\n",
       "    .dataframe tbody tr th:only-of-type {\n",
       "        vertical-align: middle;\n",
       "    }\n",
       "\n",
       "    .dataframe tbody tr th {\n",
       "        vertical-align: top;\n",
       "    }\n",
       "\n",
       "    .dataframe thead th {\n",
       "        text-align: right;\n",
       "    }\n",
       "</style>\n",
       "<table border=\"1\" class=\"dataframe\">\n",
       "  <thead>\n",
       "    <tr style=\"text-align: right;\">\n",
       "      <th></th>\n",
       "      <th>Employee ID</th>\n",
       "      <th>DEPARTMENT ID</th>\n",
       "      <th>Yearly Salary</th>\n",
       "      <th>DEPARTMENT NAME</th>\n",
       "    </tr>\n",
       "  </thead>\n",
       "  <tbody>\n",
       "    <tr>\n",
       "      <th>0</th>\n",
       "      <td>39958</td>\n",
       "      <td>1</td>\n",
       "      <td>170477</td>\n",
       "      <td>Supervisor</td>\n",
       "    </tr>\n",
       "    <tr>\n",
       "      <th>1</th>\n",
       "      <td>38682</td>\n",
       "      <td>1</td>\n",
       "      <td>209896</td>\n",
       "      <td>Supervisor</td>\n",
       "    </tr>\n",
       "    <tr>\n",
       "      <th>2</th>\n",
       "      <td>80050</td>\n",
       "      <td>1</td>\n",
       "      <td>137440</td>\n",
       "      <td>Supervisor</td>\n",
       "    </tr>\n",
       "    <tr>\n",
       "      <th>3</th>\n",
       "      <td>46991</td>\n",
       "      <td>1</td>\n",
       "      <td>67174</td>\n",
       "      <td>Supervisor</td>\n",
       "    </tr>\n",
       "    <tr>\n",
       "      <th>4</th>\n",
       "      <td>21751</td>\n",
       "      <td>1</td>\n",
       "      <td>145773</td>\n",
       "      <td>Supervisor</td>\n",
       "    </tr>\n",
       "  </tbody>\n",
       "</table>\n",
       "</div>"
      ],
      "text/plain": [
       "   Employee ID  DEPARTMENT ID  Yearly Salary DEPARTMENT NAME\n",
       "0        39958              1         170477      Supervisor\n",
       "1        38682              1         209896      Supervisor\n",
       "2        80050              1         137440      Supervisor\n",
       "3        46991              1          67174      Supervisor\n",
       "4        21751              1         145773      Supervisor"
      ]
     },
     "execution_count": 56,
     "metadata": {},
     "output_type": "execute_result"
    }
   ],
   "source": [
    "\n",
    "df_A2 = pd.merge(df_SalaryDetails, df_Department, how='right', on='DEPARTMENT ID')\n",
    "df_A2.head()"
   ]
  },
  {
   "cell_type": "code",
   "execution_count": 57,
   "metadata": {},
   "outputs": [
    {
     "data": {
      "text/html": [
       "<div>\n",
       "<style scoped>\n",
       "    .dataframe tbody tr th:only-of-type {\n",
       "        vertical-align: middle;\n",
       "    }\n",
       "\n",
       "    .dataframe tbody tr th {\n",
       "        vertical-align: top;\n",
       "    }\n",
       "\n",
       "    .dataframe thead th {\n",
       "        text-align: right;\n",
       "    }\n",
       "</style>\n",
       "<table border=\"1\" class=\"dataframe\">\n",
       "  <thead>\n",
       "    <tr style=\"text-align: right;\">\n",
       "      <th></th>\n",
       "      <th>Employee ID</th>\n",
       "      <th>DEPARTMENT ID</th>\n",
       "      <th>Yearly Salary</th>\n",
       "      <th>DEPARTMENT NAME</th>\n",
       "      <th>State</th>\n",
       "    </tr>\n",
       "  </thead>\n",
       "  <tbody>\n",
       "    <tr>\n",
       "      <th>0</th>\n",
       "      <td>39958</td>\n",
       "      <td>1</td>\n",
       "      <td>170477</td>\n",
       "      <td>Supervisor</td>\n",
       "      <td>New Hampshire</td>\n",
       "    </tr>\n",
       "    <tr>\n",
       "      <th>1</th>\n",
       "      <td>38682</td>\n",
       "      <td>1</td>\n",
       "      <td>209896</td>\n",
       "      <td>Supervisor</td>\n",
       "      <td>VirginiaConnecticut</td>\n",
       "    </tr>\n",
       "    <tr>\n",
       "      <th>2</th>\n",
       "      <td>80050</td>\n",
       "      <td>1</td>\n",
       "      <td>137440</td>\n",
       "      <td>Supervisor</td>\n",
       "      <td>Maryland</td>\n",
       "    </tr>\n",
       "    <tr>\n",
       "      <th>3</th>\n",
       "      <td>46991</td>\n",
       "      <td>1</td>\n",
       "      <td>67174</td>\n",
       "      <td>Supervisor</td>\n",
       "      <td>Maryland</td>\n",
       "    </tr>\n",
       "    <tr>\n",
       "      <th>4</th>\n",
       "      <td>21751</td>\n",
       "      <td>1</td>\n",
       "      <td>145773</td>\n",
       "      <td>Supervisor</td>\n",
       "      <td>Pennsylvania</td>\n",
       "    </tr>\n",
       "  </tbody>\n",
       "</table>\n",
       "</div>"
      ],
      "text/plain": [
       "   Employee ID  DEPARTMENT ID  Yearly Salary DEPARTMENT NAME  \\\n",
       "0        39958              1         170477      Supervisor   \n",
       "1        38682              1         209896      Supervisor   \n",
       "2        80050              1         137440      Supervisor   \n",
       "3        46991              1          67174      Supervisor   \n",
       "4        21751              1         145773      Supervisor   \n",
       "\n",
       "                 State  \n",
       "0        New Hampshire  \n",
       "1  VirginiaConnecticut  \n",
       "2             Maryland  \n",
       "3             Maryland  \n",
       "4         Pennsylvania  "
      ]
     },
     "execution_count": 57,
     "metadata": {},
     "output_type": "execute_result"
    }
   ],
   "source": [
    "\n",
    "\n",
    "df_B2 = pd.merge(df_A2, df_Employee[['Employee ID', 'State']], how='left', on='Employee ID')\n",
    "df_B2.head()"
   ]
  },
  {
   "cell_type": "code",
   "execution_count": 59,
   "metadata": {},
   "outputs": [
    {
     "data": {
      "text/plain": [
       "array(['New Hampshire', 'VirginiaConnecticut', 'Maryland', 'Pennsylvania',\n",
       "       'North Carolina', 'Delaware', 'Florida', 'Rhode Island',\n",
       "       'South Carolina', 'New York', 'Massachusetts', 'Georgia', 'Maine',\n",
       "       'New Jersy'], dtype=object)"
      ]
     },
     "execution_count": 59,
     "metadata": {},
     "output_type": "execute_result"
    }
   ],
   "source": [
    "df_B2['State'].unique()"
   ]
  },
  {
   "cell_type": "code",
   "execution_count": 63,
   "metadata": {},
   "outputs": [
    {
     "data": {
      "text/html": [
       "<div>\n",
       "<style scoped>\n",
       "    .dataframe tbody tr th:only-of-type {\n",
       "        vertical-align: middle;\n",
       "    }\n",
       "\n",
       "    .dataframe tbody tr th {\n",
       "        vertical-align: top;\n",
       "    }\n",
       "\n",
       "    .dataframe thead th {\n",
       "        text-align: right;\n",
       "    }\n",
       "</style>\n",
       "<table border=\"1\" class=\"dataframe\">\n",
       "  <thead>\n",
       "    <tr style=\"text-align: right;\">\n",
       "      <th></th>\n",
       "      <th></th>\n",
       "      <th>Employee ID</th>\n",
       "      <th>Yearly Salary</th>\n",
       "      <th>DEPARTMENT NAME</th>\n",
       "    </tr>\n",
       "    <tr>\n",
       "      <th>State</th>\n",
       "      <th>DEPARTMENT ID</th>\n",
       "      <th></th>\n",
       "      <th></th>\n",
       "      <th></th>\n",
       "    </tr>\n",
       "  </thead>\n",
       "  <tbody>\n",
       "    <tr>\n",
       "      <th rowspan=\"7\" valign=\"top\">Georgia</th>\n",
       "      <th>1</th>\n",
       "      <td>99</td>\n",
       "      <td>99</td>\n",
       "      <td>99</td>\n",
       "    </tr>\n",
       "    <tr>\n",
       "      <th>2</th>\n",
       "      <td>95</td>\n",
       "      <td>95</td>\n",
       "      <td>95</td>\n",
       "    </tr>\n",
       "    <tr>\n",
       "      <th>3</th>\n",
       "      <td>117</td>\n",
       "      <td>117</td>\n",
       "      <td>117</td>\n",
       "    </tr>\n",
       "    <tr>\n",
       "      <th>4</th>\n",
       "      <td>96</td>\n",
       "      <td>96</td>\n",
       "      <td>96</td>\n",
       "    </tr>\n",
       "    <tr>\n",
       "      <th>5</th>\n",
       "      <td>105</td>\n",
       "      <td>105</td>\n",
       "      <td>105</td>\n",
       "    </tr>\n",
       "    <tr>\n",
       "      <th>6</th>\n",
       "      <td>108</td>\n",
       "      <td>108</td>\n",
       "      <td>108</td>\n",
       "    </tr>\n",
       "    <tr>\n",
       "      <th>7</th>\n",
       "      <td>108</td>\n",
       "      <td>108</td>\n",
       "      <td>108</td>\n",
       "    </tr>\n",
       "    <tr>\n",
       "      <th rowspan=\"7\" valign=\"top\">Maine</th>\n",
       "      <th>1</th>\n",
       "      <td>108</td>\n",
       "      <td>108</td>\n",
       "      <td>108</td>\n",
       "    </tr>\n",
       "    <tr>\n",
       "      <th>2</th>\n",
       "      <td>116</td>\n",
       "      <td>116</td>\n",
       "      <td>116</td>\n",
       "    </tr>\n",
       "    <tr>\n",
       "      <th>3</th>\n",
       "      <td>110</td>\n",
       "      <td>110</td>\n",
       "      <td>110</td>\n",
       "    </tr>\n",
       "    <tr>\n",
       "      <th>4</th>\n",
       "      <td>112</td>\n",
       "      <td>112</td>\n",
       "      <td>112</td>\n",
       "    </tr>\n",
       "    <tr>\n",
       "      <th>5</th>\n",
       "      <td>99</td>\n",
       "      <td>99</td>\n",
       "      <td>99</td>\n",
       "    </tr>\n",
       "    <tr>\n",
       "      <th>6</th>\n",
       "      <td>118</td>\n",
       "      <td>118</td>\n",
       "      <td>118</td>\n",
       "    </tr>\n",
       "    <tr>\n",
       "      <th>7</th>\n",
       "      <td>85</td>\n",
       "      <td>85</td>\n",
       "      <td>85</td>\n",
       "    </tr>\n",
       "    <tr>\n",
       "      <th rowspan=\"7\" valign=\"top\">Maryland</th>\n",
       "      <th>1</th>\n",
       "      <td>109</td>\n",
       "      <td>109</td>\n",
       "      <td>109</td>\n",
       "    </tr>\n",
       "    <tr>\n",
       "      <th>2</th>\n",
       "      <td>101</td>\n",
       "      <td>101</td>\n",
       "      <td>101</td>\n",
       "    </tr>\n",
       "    <tr>\n",
       "      <th>3</th>\n",
       "      <td>133</td>\n",
       "      <td>133</td>\n",
       "      <td>133</td>\n",
       "    </tr>\n",
       "    <tr>\n",
       "      <th>4</th>\n",
       "      <td>83</td>\n",
       "      <td>83</td>\n",
       "      <td>83</td>\n",
       "    </tr>\n",
       "    <tr>\n",
       "      <th>5</th>\n",
       "      <td>87</td>\n",
       "      <td>87</td>\n",
       "      <td>87</td>\n",
       "    </tr>\n",
       "    <tr>\n",
       "      <th>6</th>\n",
       "      <td>101</td>\n",
       "      <td>101</td>\n",
       "      <td>101</td>\n",
       "    </tr>\n",
       "    <tr>\n",
       "      <th>7</th>\n",
       "      <td>96</td>\n",
       "      <td>96</td>\n",
       "      <td>96</td>\n",
       "    </tr>\n",
       "    <tr>\n",
       "      <th rowspan=\"7\" valign=\"top\">Massachusetts</th>\n",
       "      <th>1</th>\n",
       "      <td>109</td>\n",
       "      <td>109</td>\n",
       "      <td>109</td>\n",
       "    </tr>\n",
       "    <tr>\n",
       "      <th>2</th>\n",
       "      <td>105</td>\n",
       "      <td>105</td>\n",
       "      <td>105</td>\n",
       "    </tr>\n",
       "    <tr>\n",
       "      <th>3</th>\n",
       "      <td>112</td>\n",
       "      <td>112</td>\n",
       "      <td>112</td>\n",
       "    </tr>\n",
       "    <tr>\n",
       "      <th>4</th>\n",
       "      <td>124</td>\n",
       "      <td>124</td>\n",
       "      <td>124</td>\n",
       "    </tr>\n",
       "    <tr>\n",
       "      <th>5</th>\n",
       "      <td>88</td>\n",
       "      <td>88</td>\n",
       "      <td>88</td>\n",
       "    </tr>\n",
       "    <tr>\n",
       "      <th>6</th>\n",
       "      <td>105</td>\n",
       "      <td>105</td>\n",
       "      <td>105</td>\n",
       "    </tr>\n",
       "    <tr>\n",
       "      <th>7</th>\n",
       "      <td>131</td>\n",
       "      <td>131</td>\n",
       "      <td>131</td>\n",
       "    </tr>\n",
       "    <tr>\n",
       "      <th rowspan=\"7\" valign=\"top\">VirginiaConnecticut</th>\n",
       "      <th>1</th>\n",
       "      <td>116</td>\n",
       "      <td>116</td>\n",
       "      <td>116</td>\n",
       "    </tr>\n",
       "    <tr>\n",
       "      <th>2</th>\n",
       "      <td>98</td>\n",
       "      <td>98</td>\n",
       "      <td>98</td>\n",
       "    </tr>\n",
       "    <tr>\n",
       "      <th>3</th>\n",
       "      <td>101</td>\n",
       "      <td>101</td>\n",
       "      <td>101</td>\n",
       "    </tr>\n",
       "    <tr>\n",
       "      <th>4</th>\n",
       "      <td>98</td>\n",
       "      <td>98</td>\n",
       "      <td>98</td>\n",
       "    </tr>\n",
       "    <tr>\n",
       "      <th>5</th>\n",
       "      <td>102</td>\n",
       "      <td>102</td>\n",
       "      <td>102</td>\n",
       "    </tr>\n",
       "    <tr>\n",
       "      <th>6</th>\n",
       "      <td>111</td>\n",
       "      <td>111</td>\n",
       "      <td>111</td>\n",
       "    </tr>\n",
       "    <tr>\n",
       "      <th>7</th>\n",
       "      <td>101</td>\n",
       "      <td>101</td>\n",
       "      <td>101</td>\n",
       "    </tr>\n",
       "  </tbody>\n",
       "</table>\n",
       "</div>"
      ],
      "text/plain": [
       "                                   Employee ID  Yearly Salary  DEPARTMENT NAME\n",
       "State               DEPARTMENT ID                                             \n",
       "Georgia             1                       99             99               99\n",
       "                    2                       95             95               95\n",
       "                    3                      117            117              117\n",
       "                    4                       96             96               96\n",
       "                    5                      105            105              105\n",
       "                    6                      108            108              108\n",
       "                    7                      108            108              108\n",
       "Maine               1                      108            108              108\n",
       "                    2                      116            116              116\n",
       "                    3                      110            110              110\n",
       "                    4                      112            112              112\n",
       "                    5                       99             99               99\n",
       "                    6                      118            118              118\n",
       "                    7                       85             85               85\n",
       "Maryland            1                      109            109              109\n",
       "                    2                      101            101              101\n",
       "                    3                      133            133              133\n",
       "                    4                       83             83               83\n",
       "                    5                       87             87               87\n",
       "                    6                      101            101              101\n",
       "                    7                       96             96               96\n",
       "Massachusetts       1                      109            109              109\n",
       "                    2                      105            105              105\n",
       "                    3                      112            112              112\n",
       "                    4                      124            124              124\n",
       "                    5                       88             88               88\n",
       "                    6                      105            105              105\n",
       "                    7                      131            131              131\n",
       "VirginiaConnecticut 1                      116            116              116\n",
       "                    2                       98             98               98\n",
       "                    3                      101            101              101\n",
       "                    4                       98             98               98\n",
       "                    5                      102            102              102\n",
       "                    6                      111            111              111\n",
       "                    7                      101            101              101"
      ]
     },
     "execution_count": 63,
     "metadata": {},
     "output_type": "execute_result"
    }
   ],
   "source": [
    "data=df_B2[(df_B2['State'] == 'VirginiaConnecticut') | (df_B2['State'] == 'Georgia') | \n",
    "                       (df_B2['State'] == 'Maine') |(df_B2['State'] == 'Maryland') | \n",
    "                       (df_B2['State'] == 'Massachusetts')].groupby(['State','DEPARTMENT ID']).count()\n",
    "data.loc['Delaware':'VirginiaConnecticut']"
   ]
  },
  {
   "cell_type": "code",
   "execution_count": 66,
   "metadata": {},
   "outputs": [
    {
     "data": {
      "text/plain": [
       "<Figure size 504x648 with 0 Axes>"
      ]
     },
     "metadata": {},
     "output_type": "display_data"
    },
    {
     "data": {
      "image/png": "[encoded data removed]",
      "text/plain": [
       "<Figure size 467.125x360 with 1 Axes>"
      ]
     },
     "metadata": {
      "needs_background": "light"
     },
     "output_type": "display_data"
    }
   ],
   "source": [
    "plt.figure(figsize=(7,9))\n",
    "\n",
    "sns.catplot(y='State', hue='DEPARTMENT NAME', kind='count', edgecolor='0.4',\n",
    "            palette='pastel',\n",
    "            data=df_B2[(df_B2['State'] == 'New Jersey') | (df_B2['State'] == 'North Carolina') | \n",
    "                       (df_B2['State'] == 'Maine') |(df_B2['State'] == 'Delaware') | \n",
    "                       (df_B2['State'] == 'Massachusetts') | (df_B2['State'] == 'New Hampshire') | \n",
    "                       (df_B2['State'] == 'Rhode Island')])\n",
    "plt.title('Total NO of employees Living in each state for each department')\n",
    "\n",
    "plt.show()"
   ]
  },
  {
   "cell_type": "code",
   "execution_count": 68,
   "metadata": {},
   "outputs": [
    {
     "data": {
      "text/plain": [
       "<Figure size 504x648 with 0 Axes>"
      ]
     },
     "metadata": {},
     "output_type": "display_data"
    },
    {
     "data": {
      "image/png": "[encoded data removed]",
      "text/plain": [
       "<Figure size 467.125x360 with 1 Axes>"
      ]
     },
     "metadata": {
      "needs_background": "light"
     },
     "output_type": "display_data"
    }
   ],
   "source": [
    "plt.figure(figsize=(7,9))\n",
    "\n",
    "sns.catplot(y='State', hue='DEPARTMENT NAME', kind='count', edgecolor='0.4',\n",
    "            palette='pastel',\n",
    "            data=df_B2[(df_B2['State'] == 'Florida') |\n",
    "                (df_B2['State'] == 'Virginia') | (df_B2['State'] == 'Connecticut') | \n",
    "                       (df_B2['State'] == 'New York') | (df_B2['State'] == 'Maryland') | \n",
    "                       (df_B2['State'] == 'South Carolina') |\n",
    "      (df_B2['State'] == 'Georgia')])\n",
    "plt.title('Total NO of employees Living in each state for each department')\n",
    "\n",
    "plt.show()"
   ]
  },
  {
   "cell_type": "markdown",
   "metadata": {},
   "source": [
    "#### 3. Visualize salary distribution of different states "
   ]
  },
  {
   "cell_type": "code",
   "execution_count": 69,
   "metadata": {},
   "outputs": [
    {
     "data": {
      "text/html": [
       "<div>\n",
       "<style scoped>\n",
       "    .dataframe tbody tr th:only-of-type {\n",
       "        vertical-align: middle;\n",
       "    }\n",
       "\n",
       "    .dataframe tbody tr th {\n",
       "        vertical-align: top;\n",
       "    }\n",
       "\n",
       "    .dataframe thead th {\n",
       "        text-align: right;\n",
       "    }\n",
       "</style>\n",
       "<table border=\"1\" class=\"dataframe\">\n",
       "  <thead>\n",
       "    <tr style=\"text-align: right;\">\n",
       "      <th></th>\n",
       "      <th>Employee ID</th>\n",
       "      <th>First name</th>\n",
       "      <th>Last name</th>\n",
       "      <th>Phone Number</th>\n",
       "      <th>State</th>\n",
       "      <th>DEPARTMENT ID</th>\n",
       "      <th>Yearly Salary</th>\n",
       "    </tr>\n",
       "  </thead>\n",
       "  <tbody>\n",
       "    <tr>\n",
       "      <th>0</th>\n",
       "      <td>88604</td>\n",
       "      <td>Daija</td>\n",
       "      <td>Tromp</td>\n",
       "      <td>97563955</td>\n",
       "      <td>Rhode Island</td>\n",
       "      <td>7</td>\n",
       "      <td>105355</td>\n",
       "    </tr>\n",
       "    <tr>\n",
       "      <th>1</th>\n",
       "      <td>84899</td>\n",
       "      <td>Kenisha</td>\n",
       "      <td>D'Amore</td>\n",
       "      <td>28301366</td>\n",
       "      <td>Maryland</td>\n",
       "      <td>4</td>\n",
       "      <td>209417</td>\n",
       "    </tr>\n",
       "    <tr>\n",
       "      <th>2</th>\n",
       "      <td>81640</td>\n",
       "      <td>Armand</td>\n",
       "      <td>Halvorson</td>\n",
       "      <td>79476807</td>\n",
       "      <td>New Jersy</td>\n",
       "      <td>7</td>\n",
       "      <td>98478</td>\n",
       "    </tr>\n",
       "    <tr>\n",
       "      <th>3</th>\n",
       "      <td>39958</td>\n",
       "      <td>Karel</td>\n",
       "      <td>Berge</td>\n",
       "      <td>37074190</td>\n",
       "      <td>New Hampshire</td>\n",
       "      <td>1</td>\n",
       "      <td>170477</td>\n",
       "    </tr>\n",
       "    <tr>\n",
       "      <th>4</th>\n",
       "      <td>56764</td>\n",
       "      <td>Rosaria</td>\n",
       "      <td>Torp</td>\n",
       "      <td>99600141</td>\n",
       "      <td>New Hampshire</td>\n",
       "      <td>3</td>\n",
       "      <td>86713</td>\n",
       "    </tr>\n",
       "  </tbody>\n",
       "</table>\n",
       "</div>"
      ],
      "text/plain": [
       "   Employee ID First name  Last name  Phone Number          State  \\\n",
       "0        88604      Daija      Tromp      97563955   Rhode Island   \n",
       "1        84899    Kenisha    D'Amore      28301366       Maryland   \n",
       "2        81640     Armand  Halvorson      79476807      New Jersy   \n",
       "3        39958      Karel      Berge      37074190  New Hampshire   \n",
       "4        56764    Rosaria       Torp      99600141  New Hampshire   \n",
       "\n",
       "   DEPARTMENT ID  Yearly Salary  \n",
       "0              7         105355  \n",
       "1              4         209417  \n",
       "2              7          98478  \n",
       "3              1         170477  \n",
       "4              3          86713  "
      ]
     },
     "execution_count": 69,
     "metadata": {},
     "output_type": "execute_result"
    }
   ],
   "source": [
    "df_C3 = pd.merge(df_Employee, df_SalaryDetails, how='left', on='Employee ID')\n",
    "df_C3.head()"
   ]
  },
  {
   "cell_type": "code",
   "execution_count": 73,
   "metadata": {},
   "outputs": [
    {
     "data": {
      "image/png": "[encoded data removed]",
      "text/plain": [
       "<Figure size 576x360 with 1 Axes>"
      ]
     },
     "metadata": {
      "needs_background": "light"
     },
     "output_type": "display_data"
    }
   ],
   "source": [
    "plt.figure(figsize=(8,5))\n",
    "\n",
    "sns.boxplot(x='State', y='Yearly Salary',data=df_C3)\n",
    "\n",
    "plt.title('Distribution of Yearly Salary across each state')\n",
    "plt.xticks(rotation=90)\n",
    "\n",
    "plt.show()"
   ]
  },
  {
   "cell_type": "markdown",
   "metadata": {},
   "source": [
    "#### 4. Visualize salary distribution of different departments"
   ]
  },
  {
   "cell_type": "code",
   "execution_count": 74,
   "metadata": {},
   "outputs": [
    {
     "data": {
      "text/html": [
       "<div>\n",
       "<style scoped>\n",
       "    .dataframe tbody tr th:only-of-type {\n",
       "        vertical-align: middle;\n",
       "    }\n",
       "\n",
       "    .dataframe tbody tr th {\n",
       "        vertical-align: top;\n",
       "    }\n",
       "\n",
       "    .dataframe thead th {\n",
       "        text-align: right;\n",
       "    }\n",
       "</style>\n",
       "<table border=\"1\" class=\"dataframe\">\n",
       "  <thead>\n",
       "    <tr style=\"text-align: right;\">\n",
       "      <th></th>\n",
       "      <th>Employee ID</th>\n",
       "      <th>First name</th>\n",
       "      <th>Last name</th>\n",
       "      <th>Phone Number</th>\n",
       "      <th>State</th>\n",
       "      <th>DEPARTMENT ID</th>\n",
       "      <th>Yearly Salary</th>\n",
       "      <th>DEPARTMENT NAME</th>\n",
       "    </tr>\n",
       "  </thead>\n",
       "  <tbody>\n",
       "    <tr>\n",
       "      <th>0</th>\n",
       "      <td>88604</td>\n",
       "      <td>Daija</td>\n",
       "      <td>Tromp</td>\n",
       "      <td>97563955</td>\n",
       "      <td>Rhode Island</td>\n",
       "      <td>7</td>\n",
       "      <td>105355</td>\n",
       "      <td>Manager</td>\n",
       "    </tr>\n",
       "    <tr>\n",
       "      <th>1</th>\n",
       "      <td>84899</td>\n",
       "      <td>Kenisha</td>\n",
       "      <td>D'Amore</td>\n",
       "      <td>28301366</td>\n",
       "      <td>Maryland</td>\n",
       "      <td>4</td>\n",
       "      <td>209417</td>\n",
       "      <td>Seller</td>\n",
       "    </tr>\n",
       "    <tr>\n",
       "      <th>2</th>\n",
       "      <td>81640</td>\n",
       "      <td>Armand</td>\n",
       "      <td>Halvorson</td>\n",
       "      <td>79476807</td>\n",
       "      <td>New Jersy</td>\n",
       "      <td>7</td>\n",
       "      <td>98478</td>\n",
       "      <td>Manager</td>\n",
       "    </tr>\n",
       "    <tr>\n",
       "      <th>3</th>\n",
       "      <td>39958</td>\n",
       "      <td>Karel</td>\n",
       "      <td>Berge</td>\n",
       "      <td>37074190</td>\n",
       "      <td>New Hampshire</td>\n",
       "      <td>1</td>\n",
       "      <td>170477</td>\n",
       "      <td>Supervisor</td>\n",
       "    </tr>\n",
       "    <tr>\n",
       "      <th>4</th>\n",
       "      <td>56764</td>\n",
       "      <td>Rosaria</td>\n",
       "      <td>Torp</td>\n",
       "      <td>99600141</td>\n",
       "      <td>New Hampshire</td>\n",
       "      <td>3</td>\n",
       "      <td>86713</td>\n",
       "      <td>Lawyer</td>\n",
       "    </tr>\n",
       "  </tbody>\n",
       "</table>\n",
       "</div>"
      ],
      "text/plain": [
       "   Employee ID First name  Last name  Phone Number          State  \\\n",
       "0        88604      Daija      Tromp      97563955   Rhode Island   \n",
       "1        84899    Kenisha    D'Amore      28301366       Maryland   \n",
       "2        81640     Armand  Halvorson      79476807      New Jersy   \n",
       "3        39958      Karel      Berge      37074190  New Hampshire   \n",
       "4        56764    Rosaria       Torp      99600141  New Hampshire   \n",
       "\n",
       "   DEPARTMENT ID  Yearly Salary DEPARTMENT NAME  \n",
       "0              7         105355         Manager  \n",
       "1              4         209417          Seller  \n",
       "2              7          98478         Manager  \n",
       "3              1         170477      Supervisor  \n",
       "4              3          86713          Lawyer  "
      ]
     },
     "execution_count": 74,
     "metadata": {},
     "output_type": "execute_result"
    }
   ],
   "source": [
    "df_D2 = pd.merge(df_Employee, df_SalaryDetails, how='left', on='Employee ID')\n",
    "\n",
    "df_D4 = pd.merge(df_D2, df_Department, how='left', on='DEPARTMENT ID')\n",
    "df_D4.head()"
   ]
  },
  {
   "cell_type": "code",
   "execution_count": 77,
   "metadata": {},
   "outputs": [
    {
     "data": {
      "image/png": "[encoded data removed]",
      "text/plain": [
       "<Figure size 648x504 with 1 Axes>"
      ]
     },
     "metadata": {
      "needs_background": "light"
     },
     "output_type": "display_data"
    }
   ],
   "source": [
    "plt.figure(figsize=(9,7))\n",
    "\n",
    "sns.boxplot(x='DEPARTMENT NAME', y='Yearly Salary',data=df_D4)\n",
    "\n",
    "plt.title('Distribution of yearly salary across each department')\n",
    "plt.xticks(rotation=80)\n",
    "\n",
    "plt.show()"
   ]
  },
  {
   "cell_type": "markdown",
   "metadata": {},
   "source": [
    "### Salary distribution as Normal distribution"
   ]
  },
  {
   "cell_type": "code",
   "execution_count": 78,
   "metadata": {},
   "outputs": [
    {
     "data": {
      "text/plain": [
       "<AxesSubplot:xlabel='Yearly Salary', ylabel='Density'>"
      ]
     },
     "execution_count": 78,
     "metadata": {},
     "output_type": "execute_result"
    },
    {
     "data": {
      "image/png": "[encoded data removed]",
      "text/plain": [
       "<Figure size 432x288 with 1 Axes>"
      ]
     },
     "metadata": {
      "needs_background": "light"
     },
     "output_type": "display_data"
    }
   ],
   "source": [
    "sns.kdeplot(df_SalaryDetails['Yearly Salary'])"
   ]
  },
  {
   "cell_type": "code",
   "execution_count": null,
   "metadata": {},
   "outputs": [],
   "source": []
  }
 ],
 "metadata": {
  "kernelspec": {
   "display_name": "Python 3 (ipykernel)",
   "language": "python",
   "name": "python3"
  },
  "language_info": {
   "codemirror_mode": {
    "name": "ipython",
    "version": 3
   },
   "file_extension": ".py",
   "mimetype": "text/x-python",
   "name": "python",
   "nbconvert_exporter": "python",
   "pygments_lexer": "ipython3",
   "version": "3.9.7"
  },
  "toc": {
   "base_numbering": 1,
   "nav_menu": {},
   "number_sections": true,
   "sideBar": true,
   "skip_h1_title": false,
   "title_cell": "Table of Contents",
   "title_sidebar": "Contents",
   "toc_cell": false,
   "toc_position": {},
   "toc_section_display": true,
   "toc_window_display": false
  },
  "varInspector": {
   "cols": {
    "lenName": 16,
    "lenType": 16,
    "lenVar": 40
   },
   "kernels_config": {
    "python": {
     "delete_cmd_postfix": "",
     "delete_cmd_prefix": "del ",
     "library": "var_list.py",
     "varRefreshCmd": "print(var_dic_list())"
    },
    "r": {
     "delete_cmd_postfix": ") ",
     "delete_cmd_prefix": "rm(",
     "library": "var_list.r",
     "varRefreshCmd": "cat(var_dic_list()) "
    }
   },
   "types_to_exclude": [
    "module",
    "function",
    "builtin_function_or_method",
    "instance",
    "_Feature"
   ],
   "window_display": false
  }
 },
 "nbformat": 4,
 "nbformat_minor": 2
}
