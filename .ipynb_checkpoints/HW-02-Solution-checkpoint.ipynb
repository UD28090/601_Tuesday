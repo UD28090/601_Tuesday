{
 "cells": [
  {
   "cell_type": "markdown",
   "id": "58535af0",
   "metadata": {},
   "source": [
    "## Homework 2\n",
    "\n",
    "Please complete the functions below. These functions are for to simulate a fair and a biased die. \n",
    "\n",
    "The biased die has probabilities {0.20, 0.10, 0.15, 0.15, 0.15, 0.25}.\n",
    "\n",
    "Create 2 visualizations that shows outcomes of multiple rolls of a fair die and biased die. \n",
    "* Visualization for fair die\n",
    "* Visualization for biased die\n",
    "\n",
    "Repeat the process programatically and take the mean to create a new list. This list will be used to compare means of biased & unbiased dice. \n",
    "* Create a historgram showing means of biased & unbiased die\n",
    "\n",
    "* Use subcharts\n",
    "* All visualizations must have appropriate titles.\n",
    "* There are 3 visualization and expected format is \n",
    "```\n",
    " [V1] [V2]\n",
    " [   V3  ]\n",
    " ```"
   ]
  },
  {
   "cell_type": "code",
   "execution_count": 45,
   "id": "b159ee81",
   "metadata": {},
   "outputs": [],
   "source": [
    "import random \n",
    "import matplotlib.pyplot as plt\n",
    "import numpy as np\n",
    "from collections import Counter\n",
    "from collections import OrderedDict"
   ]
  },
  {
   "cell_type": "code",
   "execution_count": 46,
   "id": "fa57909a",
   "metadata": {},
   "outputs": [],
   "source": [
    "def fair_die_simulation(trials):\n",
    "   \n",
    "    options = [1,2,3,4,5,6]\n",
    "    simulations = []\n",
    "    \n",
    "    simulations = random.choices(options, k = trials)\n",
    "    \n",
    "    return simulations"
   ]
  },
  {
   "cell_type": "code",
   "execution_count": 47,
   "id": "f67ee6a1",
   "metadata": {},
   "outputs": [],
   "source": [
    "def biased_die_simuations(trials, weights=[0.25, 0.15, 0.15, 0.15, 0.15, 0.15]):\n",
    "    \"\"\"\n",
    "    returns an array of randomly numbers between 1 and 6 with the probabilty of assosiated weight. \n",
    "    for instance: for weights: [0.25, 0.15, 0.15, 0.15, 0.15, 0.15]\n",
    "    1 has 0.25 change to be selected, 2 has 0.15 chance and so on...\n",
    "    \"\"\"\n",
    "    \n",
    "    options = [1,2,3,4,5,6]\n",
    "    simulations = []\n",
    "    \n",
    "    simulations = random.choices(options, weights = weights, k = trials)\n",
    "        \n",
    "    return simulations"
   ]
  },
  {
   "cell_type": "code",
   "execution_count": 48,
   "id": "40b6edd1",
   "metadata": {},
   "outputs": [
    {
     "data": {
      "text/plain": [
       "[0,\n",
       " 0,\n",
       " 1,\n",
       " 1,\n",
       " 1,\n",
       " 0,\n",
       " 0,\n",
       " 1,\n",
       " 0,\n",
       " 1,\n",
       " 1,\n",
       " 0,\n",
       " 0,\n",
       " 1,\n",
       " 0,\n",
       " 0,\n",
       " 0,\n",
       " 0,\n",
       " 1,\n",
       " 1,\n",
       " 1,\n",
       " 0,\n",
       " 0,\n",
       " 0,\n",
       " 1,\n",
       " 1,\n",
       " 0,\n",
       " 0,\n",
       " 0,\n",
       " 1]"
      ]
     },
     "execution_count": 48,
     "metadata": {},
     "output_type": "execute_result"
    }
   ],
   "source": [
    " def create_random_coin_flip_sequence(number_of_coin_flips):\n",
    "    \"\"\"\n",
    "    create a sequence of given length containing integer values, either 1 or 0\n",
    "\n",
    "    this is intended to represent the outcome of a sequence of coin flips\n",
    "    \"\"\"\n",
    "    \n",
    "    return [random.choice([0,1]) for _ in range(number_of_coin_flips)]\n",
    "\n",
    "create_random_coin_flip_sequence(30)"
   ]
  },
  {
   "cell_type": "code",
   "execution_count": 49,
   "id": "6c3f0830",
   "metadata": {},
   "outputs": [],
   "source": [
    "def calulate_frequency(fair,biased,trial_count):\n",
    "    biased_mean_list = []\n",
    "    unbiased_mean_list = []\n",
    "    fair_frequency = dict(Counter(trail for trail in fair))\n",
    "    fair_frequency = OrderedDict(sorted(fair_frequency.items()))\n",
    "    biased_frequency = dict(Counter(trail for trail in biased))\n",
    "    biased_frequency = OrderedDict(sorted(biased_frequency.items()))\n",
    "    print(f'Face{\"Frequency\":>10}{\"Probability\":>13}{\"Frequency\":>13}{\"Probability\":>13}')\n",
    "    for i in range(1,7):\n",
    "        print(f'{i :>2}{fair_frequency[i]:>10}{fair_frequency[i]/trial_count:>13}{biased_frequency[i]:>13}{biased_frequency[i]/trial_count:>13}')\n",
    "        unbiased_mean_list.append(fair_frequency[i]/trial_count)\n",
    "        biased_mean_list.append(biased_frequency[i]/trial_count)\n",
    "    \n",
    "    return fair_frequency,biased_frequency,biased_mean_list,unbiased_mean_list"
   ]
  },
  {
   "cell_type": "code",
   "execution_count": 50,
   "id": "c5123764",
   "metadata": {
    "scrolled": true
   },
   "outputs": [],
   "source": [
    "def visualization(fair_frequency,biased_frequency,biased_mean_list,unbiased_mean_list,trial_count):\n",
    "    fig = plt.figure(figsize = (15, 5))\n",
    "\n",
    "    plt.subplot(1, 2, 1)\n",
    "    plt.bar(fair_frequency.keys(), fair_frequency.values(), color ='b', width = 0.4)\n",
    "    plt.xlabel(\"Faces\")\n",
    "    plt.ylabel(\"Fair Frequency\")\n",
    "    plt.title(f'Rolling a six fair sided die \"V1\" {trial_count:,} Times.')\n",
    "\n",
    "\n",
    "    plt.subplot(1, 2, 2)\n",
    "    plt.bar(biased_frequency.keys(), biased_frequency.values(), color ='b', width = 0.4)\n",
    "    plt.xlabel(\"Faces\")\n",
    "    plt.ylabel(\"Biased Frequency\")\n",
    "    plt.title(f'Rolling a six biased sided die \"V2\" {trial_count:,} Times.')\n",
    "    plt.show()\n",
    "\n",
    "\n",
    "\n",
    "    barWidth = 0.25\n",
    "\n",
    "    fig = plt.subplots(figsize =(10, 10))\n",
    "\n",
    "    br1 = np.arange(6)\n",
    "    br2 = [x + barWidth for x in br1]\n",
    "    \n",
    "    plt.title(f'Rolling a Fair and Biased six sided die \"V3\" {trial_count:,} Times.')\n",
    "    plt.bar(br1, unbiased_mean_list, color ='r', width = barWidth, edgecolor ='grey', label ='Fair')\n",
    "    plt.bar(br2, biased_mean_list, color ='g', width = barWidth, edgecolor ='grey', label ='Biased')\n",
    "\n",
    "    plt.xlabel('Faces', fontweight ='bold', fontsize = 15)\n",
    "    plt.ylabel('Probability', fontweight ='bold', fontsize = 15)\n",
    "    plt.xticks([r + barWidth for r in range(6)], fair_frequency.keys())\n",
    "#     plt.ylim([0, 1])\n",
    "    plt.legend()\n",
    "    plt.show()"
   ]
  },
  {
   "cell_type": "code",
   "execution_count": 51,
   "id": "6bd7973d",
   "metadata": {},
   "outputs": [
    {
     "name": "stdout",
     "output_type": "stream",
     "text": [
      "Face Frequency  Probability    Frequency  Probability\n",
      " 1       353       0.1765          518        0.259\n",
      " 2       318        0.159          295       0.1475\n",
      " 3       343       0.1715          273       0.1365\n",
      " 4       321       0.1605          324        0.162\n",
      " 5       332        0.166          292        0.146\n",
      " 6       333       0.1665          298        0.149\n"
     ]
    },
    {
     "data": {
      "image/png": "[encoded data removed]",
      "text/plain": [
       "<Figure size 1080x360 with 2 Axes>"
      ]
     },
     "metadata": {
      "needs_background": "light"
     },
     "output_type": "display_data"
    },
    {
     "data": {
      "image/png": "[encoded data removed]",
      "text/plain": [
       "<Figure size 720x720 with 1 Axes>"
      ]
     },
     "metadata": {
      "needs_background": "light"
     },
     "output_type": "display_data"
    }
   ],
   "source": [
    "trial_count = 2000\n",
    "\n",
    "biased = biased_die_simuations(trial_count)\n",
    "fair = fair_die_simulation(trial_count)\n",
    "fair_frequency,biased_frequency,biased_mean_list,unbiased_mean_list = calulate_frequency(fair,biased,trial_count)\n",
    "visualization(fair_frequency,biased_frequency,biased_mean_list,unbiased_mean_list,trial_count)"
   ]
  },
  {
   "cell_type": "code",
   "execution_count": null,
   "id": "84a56594",
   "metadata": {},
   "outputs": [],
   "source": []
  }
 ],
 "metadata": {
  "kernelspec": {
   "display_name": "Python 3 (ipykernel)",
   "language": "python",
   "name": "python3"
  },
  "language_info": {
   "codemirror_mode": {
    "name": "ipython",
    "version": 3
   },
   "file_extension": ".py",
   "mimetype": "text/x-python",
   "name": "python",
   "nbconvert_exporter": "python",
   "pygments_lexer": "ipython3",
   "version": "3.9.7"
  },
  "toc": {
   "base_numbering": 1,
   "nav_menu": {},
   "number_sections": true,
   "sideBar": true,
   "skip_h1_title": false,
   "title_cell": "Table of Contents",
   "title_sidebar": "Contents",
   "toc_cell": false,
   "toc_position": {},
   "toc_section_display": true,
   "toc_window_display": false
  }
 },
 "nbformat": 4,
 "nbformat_minor": 5
}
