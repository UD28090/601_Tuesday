{
 "cells": [
  {
   "cell_type": "markdown",
   "id": "b47b349d",
   "metadata": {},
   "source": [
    "# Homework 4 \n",
    "\n",
    "1. Acquire power data (https://www.bmreports.com/bmrs/?q=demand/rollingsystemdemand/historic) for 7 days (Include each day of the week)\n",
    "\n",
    "1. Create two bar graphs of the power consumption per hour.\n",
    "\n",
    "    * One bar graph has 24 bars showing the average consumption\n",
    "    * One bar graph has 7x24 bars showing the average demand \n",
    "\n",
    "1. Your solution should be committed in your Week04 folder.\n",
    "\n",
    "Graphs must have appropriate labels and there should not be anything extra cluttering. "
   ]
  },
  {
   "cell_type": "code",
   "execution_count": 15,
   "id": "ba276b3d",
   "metadata": {},
   "outputs": [],
   "source": [
    "import pandas as pd\n",
    "demand_df1 = pd.read_csv('https://raw.githubusercontent.com/UD28090/601_Tuesday/main/Week04/RollingSystemDemand_20220227_2308.csv')\n",
    "\n"
   ]
  },
  {
   "cell_type": "code",
   "execution_count": 16,
   "id": "d7646298",
   "metadata": {},
   "outputs": [],
   "source": [
    "# Merging both Data Frames\n",
    "frame = [demand_df1]\n",
    "demand_df3 = pd.concat(frame)"
   ]
  },
  {
   "cell_type": "code",
   "execution_count": 17,
   "id": "9bc79170",
   "metadata": {},
   "outputs": [],
   "source": [
    "# Dropping unnecessary rows\n",
    "demand_df = demand_df3.drop('FTR')"
   ]
  },
  {
   "cell_type": "code",
   "execution_count": 18,
   "id": "fe599ea0",
   "metadata": {},
   "outputs": [
    {
     "data": {
      "text/html": [
       "<div>\n",
       "<style scoped>\n",
       "    .dataframe tbody tr th:only-of-type {\n",
       "        vertical-align: middle;\n",
       "    }\n",
       "\n",
       "    .dataframe tbody tr th {\n",
       "        vertical-align: top;\n",
       "    }\n",
       "\n",
       "    .dataframe thead th {\n",
       "        text-align: right;\n",
       "    }\n",
       "</style>\n",
       "<table border=\"1\" class=\"dataframe\">\n",
       "  <thead>\n",
       "    <tr style=\"text-align: right;\">\n",
       "      <th></th>\n",
       "      <th>HDR</th>\n",
       "      <th>ROLLING SYSTEM DEMAND</th>\n",
       "    </tr>\n",
       "  </thead>\n",
       "  <tbody>\n",
       "    <tr>\n",
       "      <th>VD</th>\n",
       "      <td>20220118000000</td>\n",
       "      <td>29236.0</td>\n",
       "    </tr>\n",
       "    <tr>\n",
       "      <th>VD</th>\n",
       "      <td>20220118000500</td>\n",
       "      <td>29347.0</td>\n",
       "    </tr>\n",
       "    <tr>\n",
       "      <th>VD</th>\n",
       "      <td>20220118001000</td>\n",
       "      <td>29386.0</td>\n",
       "    </tr>\n",
       "    <tr>\n",
       "      <th>VD</th>\n",
       "      <td>20220118001500</td>\n",
       "      <td>29365.0</td>\n",
       "    </tr>\n",
       "    <tr>\n",
       "      <th>VD</th>\n",
       "      <td>20220118002000</td>\n",
       "      <td>29320.0</td>\n",
       "    </tr>\n",
       "    <tr>\n",
       "      <th>...</th>\n",
       "      <td>...</td>\n",
       "      <td>...</td>\n",
       "    </tr>\n",
       "    <tr>\n",
       "      <th>VD</th>\n",
       "      <td>20220124221500</td>\n",
       "      <td>34063.0</td>\n",
       "    </tr>\n",
       "    <tr>\n",
       "      <th>VD</th>\n",
       "      <td>20220124222000</td>\n",
       "      <td>33701.0</td>\n",
       "    </tr>\n",
       "    <tr>\n",
       "      <th>VD</th>\n",
       "      <td>20220124222500</td>\n",
       "      <td>33468.0</td>\n",
       "    </tr>\n",
       "    <tr>\n",
       "      <th>VD</th>\n",
       "      <td>20220124223000</td>\n",
       "      <td>33192.0</td>\n",
       "    </tr>\n",
       "    <tr>\n",
       "      <th>VD</th>\n",
       "      <td>20220124223500</td>\n",
       "      <td>33014.0</td>\n",
       "    </tr>\n",
       "  </tbody>\n",
       "</table>\n",
       "<p>2000 rows × 2 columns</p>\n",
       "</div>"
      ],
      "text/plain": [
       "               HDR  ROLLING SYSTEM DEMAND\n",
       "VD  20220118000000                29236.0\n",
       "VD  20220118000500                29347.0\n",
       "VD  20220118001000                29386.0\n",
       "VD  20220118001500                29365.0\n",
       "VD  20220118002000                29320.0\n",
       "..             ...                    ...\n",
       "VD  20220124221500                34063.0\n",
       "VD  20220124222000                33701.0\n",
       "VD  20220124222500                33468.0\n",
       "VD  20220124223000                33192.0\n",
       "VD  20220124223500                33014.0\n",
       "\n",
       "[2000 rows x 2 columns]"
      ]
     },
     "execution_count": 18,
     "metadata": {},
     "output_type": "execute_result"
    }
   ],
   "source": [
    "demand_df"
   ]
  },
  {
   "cell_type": "code",
   "execution_count": 19,
   "id": "5be92005",
   "metadata": {},
   "outputs": [
    {
     "name": "stderr",
     "output_type": "stream",
     "text": [
      "/Users/akhilaamaranayani/Anaconda3/anaconda3/lib/python3.9/site-packages/pandas/core/frame.py:5039: SettingWithCopyWarning: \n",
      "A value is trying to be set on a copy of a slice from a DataFrame\n",
      "\n",
      "See the caveats in the documentation: https://pandas.pydata.org/pandas-docs/stable/user_guide/indexing.html#returning-a-view-versus-a-copy\n",
      "  return super().rename(\n"
     ]
    }
   ],
   "source": [
    "#Renaming Headers\n",
    "header = {'HDR':'DT','ROLLING SYSTEM DEMAND':'Demand'}\n",
    "demand_df.rename(columns=header,inplace=True)"
   ]
  },
  {
   "cell_type": "code",
   "execution_count": 20,
   "id": "db1ffec3",
   "metadata": {},
   "outputs": [
    {
     "data": {
      "text/html": [
       "<div>\n",
       "<style scoped>\n",
       "    .dataframe tbody tr th:only-of-type {\n",
       "        vertical-align: middle;\n",
       "    }\n",
       "\n",
       "    .dataframe tbody tr th {\n",
       "        vertical-align: top;\n",
       "    }\n",
       "\n",
       "    .dataframe thead th {\n",
       "        text-align: right;\n",
       "    }\n",
       "</style>\n",
       "<table border=\"1\" class=\"dataframe\">\n",
       "  <thead>\n",
       "    <tr style=\"text-align: right;\">\n",
       "      <th></th>\n",
       "      <th>DT</th>\n",
       "      <th>Demand</th>\n",
       "    </tr>\n",
       "  </thead>\n",
       "  <tbody>\n",
       "    <tr>\n",
       "      <th>VD</th>\n",
       "      <td>20220118000000</td>\n",
       "      <td>29236.0</td>\n",
       "    </tr>\n",
       "    <tr>\n",
       "      <th>VD</th>\n",
       "      <td>20220118000500</td>\n",
       "      <td>29347.0</td>\n",
       "    </tr>\n",
       "    <tr>\n",
       "      <th>VD</th>\n",
       "      <td>20220118001000</td>\n",
       "      <td>29386.0</td>\n",
       "    </tr>\n",
       "    <tr>\n",
       "      <th>VD</th>\n",
       "      <td>20220118001500</td>\n",
       "      <td>29365.0</td>\n",
       "    </tr>\n",
       "    <tr>\n",
       "      <th>VD</th>\n",
       "      <td>20220118002000</td>\n",
       "      <td>29320.0</td>\n",
       "    </tr>\n",
       "    <tr>\n",
       "      <th>...</th>\n",
       "      <td>...</td>\n",
       "      <td>...</td>\n",
       "    </tr>\n",
       "    <tr>\n",
       "      <th>VD</th>\n",
       "      <td>20220124221500</td>\n",
       "      <td>34063.0</td>\n",
       "    </tr>\n",
       "    <tr>\n",
       "      <th>VD</th>\n",
       "      <td>20220124222000</td>\n",
       "      <td>33701.0</td>\n",
       "    </tr>\n",
       "    <tr>\n",
       "      <th>VD</th>\n",
       "      <td>20220124222500</td>\n",
       "      <td>33468.0</td>\n",
       "    </tr>\n",
       "    <tr>\n",
       "      <th>VD</th>\n",
       "      <td>20220124223000</td>\n",
       "      <td>33192.0</td>\n",
       "    </tr>\n",
       "    <tr>\n",
       "      <th>VD</th>\n",
       "      <td>20220124223500</td>\n",
       "      <td>33014.0</td>\n",
       "    </tr>\n",
       "  </tbody>\n",
       "</table>\n",
       "<p>2000 rows × 2 columns</p>\n",
       "</div>"
      ],
      "text/plain": [
       "                DT   Demand\n",
       "VD  20220118000000  29236.0\n",
       "VD  20220118000500  29347.0\n",
       "VD  20220118001000  29386.0\n",
       "VD  20220118001500  29365.0\n",
       "VD  20220118002000  29320.0\n",
       "..             ...      ...\n",
       "VD  20220124221500  34063.0\n",
       "VD  20220124222000  33701.0\n",
       "VD  20220124222500  33468.0\n",
       "VD  20220124223000  33192.0\n",
       "VD  20220124223500  33014.0\n",
       "\n",
       "[2000 rows x 2 columns]"
      ]
     },
     "execution_count": 20,
     "metadata": {},
     "output_type": "execute_result"
    }
   ],
   "source": [
    "demand_df"
   ]
  },
  {
   "cell_type": "code",
   "execution_count": 21,
   "id": "f9bf1950",
   "metadata": {},
   "outputs": [],
   "source": [
    "# Taking it into a list to get Hourly Demand\n",
    "list3 = []\n",
    "j = 0\n",
    "k = 1\n",
    "for i in demand_df['Demand']:\n",
    "    j = j+i\n",
    "    if k<12:\n",
    "        k = k+1\n",
    "    else:\n",
    "        list3.append(j)\n",
    "        k = 1\n",
    "        j = 0    "
   ]
  },
  {
   "cell_type": "code",
   "execution_count": 22,
   "id": "e00d1286",
   "metadata": {},
   "outputs": [
    {
     "data": {
      "text/plain": [
       "166"
      ]
     },
     "execution_count": 22,
     "metadata": {},
     "output_type": "execute_result"
    }
   ],
   "source": [
    "list4 = list3[:24]\n",
    "len(list3)"
   ]
  },
  {
   "cell_type": "code",
   "execution_count": 23,
   "id": "03fd0c8e",
   "metadata": {},
   "outputs": [],
   "source": [
    "# Assigning indexes\n",
    "# Converting the list to Data Frames\n",
    "list5 = list(range(1,25))\n",
    "list6 = list(range(1,len(list3)+1))\n",
    "df_1d = pd.DataFrame(list4,index=list5,columns=['Demand'])\n",
    "df_2d = pd.DataFrame(list3,index=list6,columns=['Demand'])"
   ]
  },
  {
   "cell_type": "code",
   "execution_count": 24,
   "id": "df450d1a",
   "metadata": {},
   "outputs": [
    {
     "data": {
      "image/png": "[encoded data removed]",
      "text/plain": [
       "<Figure size 504x288 with 1 Axes>"
      ]
     },
     "metadata": {
      "needs_background": "light"
     },
     "output_type": "display_data"
    }
   ],
   "source": [
    "# Plotting Bar graphs\n",
    "\n",
    "import matplotlib.pyplot as plt\n",
    "df_1d.plot.bar(figsize=(7,4))\n",
    "plt.title('Hourly Demand for a day')\n",
    "plt.xlabel('Hours')\n",
    "plt.ylabel('Demand')\n",
    "plt.show()"
   ]
  },
  {
   "cell_type": "code",
   "execution_count": 25,
   "id": "feb6face",
   "metadata": {},
   "outputs": [
    {
     "data": {
      "image/png": "[encoded data removed]",
      "text/plain": [
       "<Figure size 2520x576 with 1 Axes>"
      ]
     },
     "metadata": {
      "needs_background": "light"
     },
     "output_type": "display_data"
    }
   ],
   "source": [
    "df_2d.plot.bar(figsize = (35,8))\n",
    "plt.title('Hourly Demand for 7 days')\n",
    "plt.xlabel('Hours')\n",
    "plt.ylabel('Demand')\n",
    "plt.show()"
   ]
  },
  {
   "cell_type": "code",
   "execution_count": null,
   "id": "cc88031e",
   "metadata": {},
   "outputs": [],
   "source": []
  },
  {
   "cell_type": "code",
   "execution_count": null,
   "id": "164fb79d",
   "metadata": {},
   "outputs": [],
   "source": []
  }
 ],
 "metadata": {
  "kernelspec": {
   "display_name": "Python 3 (ipykernel)",
   "language": "python",
   "name": "python3"
  },
  "language_info": {
   "codemirror_mode": {
    "name": "ipython",
    "version": 3
   },
   "file_extension": ".py",
   "mimetype": "text/x-python",
   "name": "python",
   "nbconvert_exporter": "python",
   "pygments_lexer": "ipython3",
   "version": "3.9.7"
  },
  "toc": {
   "base_numbering": 1,
   "nav_menu": {},
   "number_sections": true,
   "sideBar": true,
   "skip_h1_title": false,
   "title_cell": "Table of Contents",
   "title_sidebar": "Contents",
   "toc_cell": false,
   "toc_position": {},
   "toc_section_display": true,
   "toc_window_display": false
  }
 },
 "nbformat": 4,
 "nbformat_minor": 5
}
